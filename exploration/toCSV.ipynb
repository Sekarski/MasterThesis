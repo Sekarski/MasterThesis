{
 "cells": [
  {
   "cell_type": "markdown",
   "id": "ed6fef60",
   "metadata": {},
   "source": [
    "This notebook will explort the data I have to far to CSV files, so I can analyse the with R as well"
   ]
  },
  {
   "cell_type": "code",
   "execution_count": 1,
   "id": "db5adeca",
   "metadata": {},
   "outputs": [],
   "source": [
    "import pickle\n",
    "import pandas as pd"
   ]
  },
  {
   "cell_type": "code",
   "execution_count": 2,
   "id": "ee6e24d3",
   "metadata": {},
   "outputs": [],
   "source": [
    "tsla_price = pickle.load(open(\"../data/data_h_corrected.pickle\",\"rb\"))['Open']\n",
    "tsla_trend = pickle.load(open(\"../data/GT_tsla_h.pickle\",\"rb\"))\n",
    "musk_trend = pickle.load(open(\"../data/GT_musk_h.pickle\",\"rb\"))"
   ]
  },
  {
   "cell_type": "code",
   "execution_count": 3,
   "id": "2c18f4a0",
   "metadata": {},
   "outputs": [],
   "source": [
    "tsla_price.to_csv(\"../data/data_h_corrected.csv\")\n",
    "tsla_trend.to_csv(\"../data/GT_tsla_h.csv\")\n",
    "musk_trend.to_csv(\"../data/GT_musk_h.csv\")"
   ]
  },
  {
   "cell_type": "code",
   "execution_count": null,
   "id": "1f79b4e1",
   "metadata": {},
   "outputs": [],
   "source": []
  }
 ],
 "metadata": {
  "kernelspec": {
   "display_name": "Python 3",
   "language": "python",
   "name": "python3"
  },
  "language_info": {
   "codemirror_mode": {
    "name": "ipython",
    "version": 3
   },
   "file_extension": ".py",
   "mimetype": "text/x-python",
   "name": "python",
   "nbconvert_exporter": "python",
   "pygments_lexer": "ipython3",
   "version": "3.9.0"
  }
 },
 "nbformat": 4,
 "nbformat_minor": 5
}
