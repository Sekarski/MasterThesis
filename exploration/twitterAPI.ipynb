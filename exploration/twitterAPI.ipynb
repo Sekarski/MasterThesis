{
 "cells": [
  {
   "cell_type": "code",
   "execution_count": 203,
   "id": "thermal-church",
   "metadata": {},
   "outputs": [],
   "source": [
    "import twitter\n",
    "import pickle\n",
    "import pandas as pd\n",
    "from getpass import getpass\n",
    "from matplotlib import pyplot as plt"
   ]
  },
  {
   "cell_type": "code",
   "execution_count": 173,
   "id": "located-street",
   "metadata": {},
   "outputs": [
    {
     "name": "stdout",
     "output_type": "stream",
     "text": [
      "API key : ········\n",
      "API secret key : ········\n",
      "access token : ········\n",
      "secret access token : ········\n"
     ]
    }
   ],
   "source": [
    "consumer_key = getpass(\"API key : \")\n",
    "consumer_secret = getpass(\"API secret key : \")\n",
    "access_token_key = getpass(\"access token : \")\n",
    "access_token_secret = getpass(\"secret access token : \")\n",
    "\n",
    "api = twitter.Api(consumer_key=consumer_key,\n",
    "                  consumer_secret=consumer_secret,\n",
    "                  access_token_key=access_token_key,\n",
    "                  access_token_secret=access_token_secret)"
   ]
  },
  {
   "cell_type": "code",
   "execution_count": 43,
   "id": "agricultural-cherry",
   "metadata": {},
   "outputs": [],
   "source": [
    "statuses = api.GetUserTimeline(screen_name='elonmusk',count=200)"
   ]
  },
  {
   "cell_type": "code",
   "execution_count": 44,
   "id": "small-kitchen",
   "metadata": {},
   "outputs": [
    {
     "name": "stdout",
     "output_type": "stream",
     "text": [
      "200\n"
     ]
    }
   ],
   "source": [
    "print(len(statuses))"
   ]
  },
  {
   "cell_type": "code",
   "execution_count": 52,
   "id": "stretch-microphone",
   "metadata": {},
   "outputs": [
    {
     "name": "stdout",
     "output_type": "stream",
     "text": [
      "1370947478355333123\n"
     ]
    }
   ],
   "source": [
    "last_id = statuses[-1].id\n",
    "print(last_id)"
   ]
  },
  {
   "cell_type": "code",
   "execution_count": 50,
   "id": "czech-patient",
   "metadata": {},
   "outputs": [],
   "source": [
    "res = api.GetUserTimeline(screen_name='elonmusk',count=200,max_id=last_id)"
   ]
  },
  {
   "cell_type": "code",
   "execution_count": 51,
   "id": "conditional-driver",
   "metadata": {},
   "outputs": [
    {
     "name": "stdout",
     "output_type": "stream",
     "text": [
      "200\n"
     ]
    }
   ],
   "source": [
    "print(len(res))"
   ]
  },
  {
   "cell_type": "code",
   "execution_count": 48,
   "id": "favorite-jersey",
   "metadata": {},
   "outputs": [],
   "source": [
    "stop = False\n",
    "while not stop:\n",
    "    res = api.GetUserTimeline(screen_name='elonmusk',count=200,max_id=last_id)\n",
    "    statuses = statuses + res[1:]\n",
    "    last_id = statuses[-1].id\n",
    "    if len(res)<200:\n",
    "        stop=True"
   ]
  },
  {
   "cell_type": "code",
   "execution_count": 49,
   "id": "standard-sheet",
   "metadata": {},
   "outputs": [
    {
     "name": "stdout",
     "output_type": "stream",
     "text": [
      "200\n"
     ]
    }
   ],
   "source": [
    "print(len(statuses))"
   ]
  },
  {
   "cell_type": "code",
   "execution_count": 32,
   "id": "psychological-eating",
   "metadata": {},
   "outputs": [
    {
     "name": "stdout",
     "output_type": "stream",
     "text": [
      "{\"created_at\": \"Sat Dec 26 19:04:29 +0000 2020\", \"favorite_count\": 1635, \"hashtags\": [], \"id\": 1342909163903455233, \"id_str\": \"1342909163903455233\", \"in_reply_to_screen_name\": \"IvanEscobosa\", \"in_reply_to_status_id\": 1342908972030836737, \"in_reply_to_user_id\": 286507556, \"lang\": \"en\", \"retweet_count\": 68, \"source\": \"<a href=\\\"http://twitter.com/download/iphone\\\" rel=\\\"nofollow\\\">Twitter for iPhone</a>\", \"text\": \"@IvanEscobosa @Erdayastronaut @teslaownersSV A few more revisions needed. Probably Beta 10 or 11.\", \"urls\": [], \"user\": {\"created_at\": \"Tue Jun 02 20:12:29 +0000 2009\", \"description\": \"Technoking of Tesla\", \"favourites_count\": 8418, \"followers_count\": 50435719, \"friends_count\": 104, \"id\": 44196397, \"id_str\": \"44196397\", \"listed_count\": 67258, \"name\": \"Elon Musk\", \"profile_background_color\": \"C0DEED\", \"profile_background_image_url\": \"http://abs.twimg.com/images/themes/theme1/bg.png\", \"profile_background_image_url_https\": \"https://abs.twimg.com/images/themes/theme1/bg.png\", \"profile_banner_url\": \"https://pbs.twimg.com/profile_banners/44196397/1576183471\", \"profile_image_url\": \"http://pbs.twimg.com/profile_images/1364491704817098753/V22-Luf7_normal.jpg\", \"profile_image_url_https\": \"https://pbs.twimg.com/profile_images/1364491704817098753/V22-Luf7_normal.jpg\", \"profile_link_color\": \"0084B4\", \"profile_sidebar_border_color\": \"C0DEED\", \"profile_sidebar_fill_color\": \"DDEEF6\", \"profile_text_color\": \"333333\", \"profile_use_background_image\": true, \"screen_name\": \"elonmusk\", \"statuses_count\": 13978, \"verified\": true}, \"user_mentions\": [{\"id\": 286507556, \"id_str\": \"286507556\", \"name\": \"Ivan Escobosa\", \"screen_name\": \"IvanEscobosa\"}, {\"id\": 3167257102, \"id_str\": \"3167257102\", \"name\": \"Everyday Astronaut\", \"screen_name\": \"Erdayastronaut\"}, {\"id\": 1016059981907386368, \"id_str\": \"1016059981907386368\", \"name\": \"Tesla Owners of Silicon Valley\", \"screen_name\": \"teslaownersSV\"}]}\n"
     ]
    }
   ],
   "source": [
    "print(statuses[-1])"
   ]
  },
  {
   "cell_type": "code",
   "execution_count": 147,
   "id": "vanilla-initial",
   "metadata": {},
   "outputs": [
    {
     "name": "stdout",
     "output_type": "stream",
     "text": [
      "1256243674268098561\n"
     ]
    }
   ],
   "source": [
    "last_id = statuses[-1].id\n",
    "print(last_id)"
   ]
  },
  {
   "cell_type": "code",
   "execution_count": 184,
   "id": "concerned-quarter",
   "metadata": {},
   "outputs": [],
   "source": [
    "res = api.GetUserTimeline(screen_name='elonmusk',count=200,max_id=last_id)"
   ]
  },
  {
   "cell_type": "code",
   "execution_count": 146,
   "id": "special-center",
   "metadata": {},
   "outputs": [],
   "source": [
    "statuses = statuses + res"
   ]
  },
  {
   "cell_type": "code",
   "execution_count": 185,
   "id": "selected-somewhere",
   "metadata": {},
   "outputs": [
    {
     "name": "stdout",
     "output_type": "stream",
     "text": [
      "number of statuses:  3263\n",
      "id= 1380487877209956357 , date= Fri Apr 09 11:48:52 +0000 2021 , text= Epilogue is not quite on target though\n",
      "id= 1256243674268098561 , date= Fri May 01 15:26:46 +0000 2020 , text= And the rocket's red glare, \n",
      "the bombs bursting in air\n",
      "\n",
      "\n",
      "number of statuses in last call:  0\n"
     ]
    },
    {
     "ename": "IndexError",
     "evalue": "list index out of range",
     "output_type": "error",
     "traceback": [
      "\u001b[0;31m---------------------------------------------------------------------------\u001b[0m",
      "\u001b[0;31mIndexError\u001b[0m                                Traceback (most recent call last)",
      "\u001b[0;32m<ipython-input-185-3e4748a89a92>\u001b[0m in \u001b[0;36m<module>\u001b[0;34m\u001b[0m\n\u001b[1;32m      4\u001b[0m \u001b[0mprint\u001b[0m\u001b[0;34m(\u001b[0m\u001b[0;34m\"\\n\"\u001b[0m\u001b[0;34m)\u001b[0m\u001b[0;34m\u001b[0m\u001b[0;34m\u001b[0m\u001b[0m\n\u001b[1;32m      5\u001b[0m \u001b[0mprint\u001b[0m\u001b[0;34m(\u001b[0m\u001b[0;34m\"number of statuses in last call: \"\u001b[0m\u001b[0;34m,\u001b[0m\u001b[0mlen\u001b[0m\u001b[0;34m(\u001b[0m\u001b[0mres\u001b[0m\u001b[0;34m)\u001b[0m\u001b[0;34m)\u001b[0m\u001b[0;34m\u001b[0m\u001b[0;34m\u001b[0m\u001b[0m\n\u001b[0;32m----> 6\u001b[0;31m \u001b[0mprint\u001b[0m\u001b[0;34m(\u001b[0m\u001b[0;34m\"id=\"\u001b[0m\u001b[0;34m,\u001b[0m\u001b[0mres\u001b[0m\u001b[0;34m[\u001b[0m\u001b[0;36m0\u001b[0m\u001b[0;34m]\u001b[0m\u001b[0;34m.\u001b[0m\u001b[0mid\u001b[0m\u001b[0;34m,\u001b[0m\u001b[0;34m\", date=\"\u001b[0m\u001b[0;34m,\u001b[0m\u001b[0mres\u001b[0m\u001b[0;34m[\u001b[0m\u001b[0;36m0\u001b[0m\u001b[0;34m]\u001b[0m\u001b[0;34m.\u001b[0m\u001b[0mcreated_at\u001b[0m\u001b[0;34m,\u001b[0m\u001b[0;34m\", text=\"\u001b[0m\u001b[0;34m,\u001b[0m\u001b[0mres\u001b[0m\u001b[0;34m[\u001b[0m\u001b[0;36m0\u001b[0m\u001b[0;34m]\u001b[0m\u001b[0;34m.\u001b[0m\u001b[0mtext\u001b[0m\u001b[0;34m)\u001b[0m\u001b[0;34m\u001b[0m\u001b[0;34m\u001b[0m\u001b[0m\n\u001b[0m\u001b[1;32m      7\u001b[0m \u001b[0mprint\u001b[0m\u001b[0;34m(\u001b[0m\u001b[0;34m\"id=\"\u001b[0m\u001b[0;34m,\u001b[0m\u001b[0mres\u001b[0m\u001b[0;34m[\u001b[0m\u001b[0;34m-\u001b[0m\u001b[0;36m1\u001b[0m\u001b[0;34m]\u001b[0m\u001b[0;34m.\u001b[0m\u001b[0mid\u001b[0m\u001b[0;34m,\u001b[0m\u001b[0;34m\", date=\"\u001b[0m\u001b[0;34m,\u001b[0m\u001b[0mres\u001b[0m\u001b[0;34m[\u001b[0m\u001b[0;34m-\u001b[0m\u001b[0;36m1\u001b[0m\u001b[0;34m]\u001b[0m\u001b[0;34m.\u001b[0m\u001b[0mcreated_at\u001b[0m\u001b[0;34m,\u001b[0m\u001b[0;34m\", text=\"\u001b[0m\u001b[0;34m,\u001b[0m\u001b[0mres\u001b[0m\u001b[0;34m[\u001b[0m\u001b[0;34m-\u001b[0m\u001b[0;36m1\u001b[0m\u001b[0;34m]\u001b[0m\u001b[0;34m.\u001b[0m\u001b[0mtext\u001b[0m\u001b[0;34m)\u001b[0m\u001b[0;34m\u001b[0m\u001b[0;34m\u001b[0m\u001b[0m\n",
      "\u001b[0;31mIndexError\u001b[0m: list index out of range"
     ]
    }
   ],
   "source": [
    "print(\"number of statuses: \",len(statuses))\n",
    "print(\"id=\",statuses[0].id,\", date=\",statuses[0].created_at,\", text=\",statuses[0].text)\n",
    "print(\"id=\",statuses[-1].id,\", date=\",statuses[-1].created_at,\", text=\",statuses[-1].text)\n",
    "print(\"\\n\")\n",
    "print(\"number of statuses in last call: \",len(res))\n",
    "print(\"id=\",res[0].id,\", date=\",res[0].created_at,\", text=\",res[0].text)\n",
    "print(\"id=\",res[-1].id,\", date=\",res[-1].created_at,\", text=\",res[-1].text)"
   ]
  },
  {
   "cell_type": "code",
   "execution_count": 199,
   "id": "above-proposition",
   "metadata": {},
   "outputs": [],
   "source": [
    "#twitter_data = pd.json_normalize(statuses)\n",
    "statuses_dicts = []\n",
    "for s in statuses:\n",
    "    statuses_dicts.append(s.AsDict())"
   ]
  },
  {
   "cell_type": "code",
   "execution_count": 200,
   "id": "medieval-reference",
   "metadata": {},
   "outputs": [
    {
     "data": {
      "text/html": [
       "<div>\n",
       "<style scoped>\n",
       "    .dataframe tbody tr th:only-of-type {\n",
       "        vertical-align: middle;\n",
       "    }\n",
       "\n",
       "    .dataframe tbody tr th {\n",
       "        vertical-align: top;\n",
       "    }\n",
       "\n",
       "    .dataframe thead th {\n",
       "        text-align: right;\n",
       "    }\n",
       "</style>\n",
       "<table border=\"1\" class=\"dataframe\">\n",
       "  <thead>\n",
       "    <tr style=\"text-align: right;\">\n",
       "      <th></th>\n",
       "      <th>created_at</th>\n",
       "      <th>favorite_count</th>\n",
       "      <th>hashtags</th>\n",
       "      <th>id</th>\n",
       "      <th>id_str</th>\n",
       "      <th>in_reply_to_screen_name</th>\n",
       "      <th>in_reply_to_status_id</th>\n",
       "      <th>in_reply_to_user_id</th>\n",
       "      <th>lang</th>\n",
       "      <th>retweet_count</th>\n",
       "      <th>...</th>\n",
       "      <th>urls</th>\n",
       "      <th>user</th>\n",
       "      <th>user_mentions</th>\n",
       "      <th>quoted_status</th>\n",
       "      <th>quoted_status_id</th>\n",
       "      <th>quoted_status_id_str</th>\n",
       "      <th>media</th>\n",
       "      <th>truncated</th>\n",
       "      <th>retweeted_status</th>\n",
       "      <th>possibly_sensitive</th>\n",
       "    </tr>\n",
       "  </thead>\n",
       "  <tbody>\n",
       "    <tr>\n",
       "      <th>0</th>\n",
       "      <td>Fri Apr 09 11:48:52 +0000 2021</td>\n",
       "      <td>12968.0</td>\n",
       "      <td>[]</td>\n",
       "      <td>1380487877209956357</td>\n",
       "      <td>1380487877209956357</td>\n",
       "      <td>elonmusk</td>\n",
       "      <td>1.380481e+18</td>\n",
       "      <td>4.419640e+07</td>\n",
       "      <td>en</td>\n",
       "      <td>422</td>\n",
       "      <td>...</td>\n",
       "      <td>[]</td>\n",
       "      <td>{'created_at': 'Tue Jun 02 20:12:29 +0000 2009...</td>\n",
       "      <td>[]</td>\n",
       "      <td>NaN</td>\n",
       "      <td>NaN</td>\n",
       "      <td>NaN</td>\n",
       "      <td>NaN</td>\n",
       "      <td>NaN</td>\n",
       "      <td>NaN</td>\n",
       "      <td>NaN</td>\n",
       "    </tr>\n",
       "    <tr>\n",
       "      <th>1</th>\n",
       "      <td>Fri Apr 09 11:24:30 +0000 2021</td>\n",
       "      <td>19984.0</td>\n",
       "      <td>[]</td>\n",
       "      <td>1380481743531089924</td>\n",
       "      <td>1380481743531089924</td>\n",
       "      <td>elonmusk</td>\n",
       "      <td>1.380481e+18</td>\n",
       "      <td>4.419640e+07</td>\n",
       "      <td>en</td>\n",
       "      <td>540</td>\n",
       "      <td>...</td>\n",
       "      <td>[]</td>\n",
       "      <td>{'created_at': 'Tue Jun 02 20:12:29 +0000 2009...</td>\n",
       "      <td>[]</td>\n",
       "      <td>NaN</td>\n",
       "      <td>NaN</td>\n",
       "      <td>NaN</td>\n",
       "      <td>NaN</td>\n",
       "      <td>NaN</td>\n",
       "      <td>NaN</td>\n",
       "      <td>NaN</td>\n",
       "    </tr>\n",
       "    <tr>\n",
       "      <th>2</th>\n",
       "      <td>Fri Apr 09 11:21:13 +0000 2021</td>\n",
       "      <td>36855.0</td>\n",
       "      <td>[]</td>\n",
       "      <td>1380480918243090433</td>\n",
       "      <td>1380480918243090433</td>\n",
       "      <td>NaN</td>\n",
       "      <td>NaN</td>\n",
       "      <td>NaN</td>\n",
       "      <td>en</td>\n",
       "      <td>2439</td>\n",
       "      <td>...</td>\n",
       "      <td>[{'expanded_url': 'https://twitter.com/sciguys...</td>\n",
       "      <td>{'created_at': 'Tue Jun 02 20:12:29 +0000 2009...</td>\n",
       "      <td>[]</td>\n",
       "      <td>{'created_at': 'Mon Sep 28 14:47:26 +0000 2020...</td>\n",
       "      <td>1.310592e+18</td>\n",
       "      <td>1310591955374665729</td>\n",
       "      <td>NaN</td>\n",
       "      <td>NaN</td>\n",
       "      <td>NaN</td>\n",
       "      <td>NaN</td>\n",
       "    </tr>\n",
       "    <tr>\n",
       "      <th>3</th>\n",
       "      <td>Fri Apr 09 07:35:55 +0000 2021</td>\n",
       "      <td>2489.0</td>\n",
       "      <td>[]</td>\n",
       "      <td>1380424218261692418</td>\n",
       "      <td>1380424218261692418</td>\n",
       "      <td>TeslaGong</td>\n",
       "      <td>1.380424e+18</td>\n",
       "      <td>1.008296e+18</td>\n",
       "      <td>en</td>\n",
       "      <td>67</td>\n",
       "      <td>...</td>\n",
       "      <td>[]</td>\n",
       "      <td>{'created_at': 'Tue Jun 02 20:12:29 +0000 2009...</td>\n",
       "      <td>[{'id': 1008296232261783552, 'id_str': '100829...</td>\n",
       "      <td>NaN</td>\n",
       "      <td>NaN</td>\n",
       "      <td>NaN</td>\n",
       "      <td>NaN</td>\n",
       "      <td>NaN</td>\n",
       "      <td>NaN</td>\n",
       "      <td>NaN</td>\n",
       "    </tr>\n",
       "    <tr>\n",
       "      <th>4</th>\n",
       "      <td>Fri Apr 09 07:35:17 +0000 2021</td>\n",
       "      <td>1094.0</td>\n",
       "      <td>[]</td>\n",
       "      <td>1380424061105266695</td>\n",
       "      <td>1380424061105266695</td>\n",
       "      <td>mikevanbus</td>\n",
       "      <td>1.380377e+18</td>\n",
       "      <td>1.181674e+18</td>\n",
       "      <td>en</td>\n",
       "      <td>30</td>\n",
       "      <td>...</td>\n",
       "      <td>[]</td>\n",
       "      <td>{'created_at': 'Tue Jun 02 20:12:29 +0000 2009...</td>\n",
       "      <td>[{'id': 1181674437986471936, 'id_str': '118167...</td>\n",
       "      <td>NaN</td>\n",
       "      <td>NaN</td>\n",
       "      <td>NaN</td>\n",
       "      <td>NaN</td>\n",
       "      <td>NaN</td>\n",
       "      <td>NaN</td>\n",
       "      <td>NaN</td>\n",
       "    </tr>\n",
       "  </tbody>\n",
       "</table>\n",
       "<p>5 rows × 22 columns</p>\n",
       "</div>"
      ],
      "text/plain": [
       "                       created_at  favorite_count hashtags  \\\n",
       "0  Fri Apr 09 11:48:52 +0000 2021         12968.0       []   \n",
       "1  Fri Apr 09 11:24:30 +0000 2021         19984.0       []   \n",
       "2  Fri Apr 09 11:21:13 +0000 2021         36855.0       []   \n",
       "3  Fri Apr 09 07:35:55 +0000 2021          2489.0       []   \n",
       "4  Fri Apr 09 07:35:17 +0000 2021          1094.0       []   \n",
       "\n",
       "                    id               id_str in_reply_to_screen_name  \\\n",
       "0  1380487877209956357  1380487877209956357                elonmusk   \n",
       "1  1380481743531089924  1380481743531089924                elonmusk   \n",
       "2  1380480918243090433  1380480918243090433                     NaN   \n",
       "3  1380424218261692418  1380424218261692418               TeslaGong   \n",
       "4  1380424061105266695  1380424061105266695              mikevanbus   \n",
       "\n",
       "   in_reply_to_status_id  in_reply_to_user_id lang  retweet_count  ...  \\\n",
       "0           1.380481e+18         4.419640e+07   en            422  ...   \n",
       "1           1.380481e+18         4.419640e+07   en            540  ...   \n",
       "2                    NaN                  NaN   en           2439  ...   \n",
       "3           1.380424e+18         1.008296e+18   en             67  ...   \n",
       "4           1.380377e+18         1.181674e+18   en             30  ...   \n",
       "\n",
       "                                                urls  \\\n",
       "0                                                 []   \n",
       "1                                                 []   \n",
       "2  [{'expanded_url': 'https://twitter.com/sciguys...   \n",
       "3                                                 []   \n",
       "4                                                 []   \n",
       "\n",
       "                                                user  \\\n",
       "0  {'created_at': 'Tue Jun 02 20:12:29 +0000 2009...   \n",
       "1  {'created_at': 'Tue Jun 02 20:12:29 +0000 2009...   \n",
       "2  {'created_at': 'Tue Jun 02 20:12:29 +0000 2009...   \n",
       "3  {'created_at': 'Tue Jun 02 20:12:29 +0000 2009...   \n",
       "4  {'created_at': 'Tue Jun 02 20:12:29 +0000 2009...   \n",
       "\n",
       "                                       user_mentions  \\\n",
       "0                                                 []   \n",
       "1                                                 []   \n",
       "2                                                 []   \n",
       "3  [{'id': 1008296232261783552, 'id_str': '100829...   \n",
       "4  [{'id': 1181674437986471936, 'id_str': '118167...   \n",
       "\n",
       "                                       quoted_status quoted_status_id  \\\n",
       "0                                                NaN              NaN   \n",
       "1                                                NaN              NaN   \n",
       "2  {'created_at': 'Mon Sep 28 14:47:26 +0000 2020...     1.310592e+18   \n",
       "3                                                NaN              NaN   \n",
       "4                                                NaN              NaN   \n",
       "\n",
       "  quoted_status_id_str  media truncated retweeted_status possibly_sensitive  \n",
       "0                  NaN    NaN       NaN              NaN                NaN  \n",
       "1                  NaN    NaN       NaN              NaN                NaN  \n",
       "2  1310591955374665729    NaN       NaN              NaN                NaN  \n",
       "3                  NaN    NaN       NaN              NaN                NaN  \n",
       "4                  NaN    NaN       NaN              NaN                NaN  \n",
       "\n",
       "[5 rows x 22 columns]"
      ]
     },
     "execution_count": 200,
     "metadata": {},
     "output_type": "execute_result"
    }
   ],
   "source": [
    "twitter_data = pd.DataFrame(statuses_dicts)\n",
    "twitter_data.head()"
   ]
  },
  {
   "cell_type": "code",
   "execution_count": 202,
   "id": "biological-identifier",
   "metadata": {},
   "outputs": [],
   "source": [
    "pickle.dump(twitter_data, open(\"../data/twitter_musk.pickle\",'wb'))"
   ]
  },
  {
   "cell_type": "code",
   "execution_count": 204,
   "id": "lovely-curtis",
   "metadata": {},
   "outputs": [
    {
     "data": {
      "text/plain": [
       "[<matplotlib.lines.Line2D at 0x113d48430>]"
      ]
     },
     "execution_count": 204,
     "metadata": {},
     "output_type": "execute_result"
    },
    {
     "data": {
      "image/png": "[encoded data removed]",
      "text/plain": [
       "<Figure size 432x288 with 1 Axes>"
      ]
     },
     "metadata": {
      "needs_background": "light"
     },
     "output_type": "display_data"
    }
   ],
   "source": [
    "plt.plot(twitter_data[\"created_at\"][:],twitter_data[\"favorite_count\"][:])"
   ]
  }
 ],
 "metadata": {
  "kernelspec": {
   "display_name": "Python 3",
   "language": "python",
   "name": "python3"
  },
  "language_info": {
   "codemirror_mode": {
    "name": "ipython",
    "version": 3
   },
   "file_extension": ".py",
   "mimetype": "text/x-python",
   "name": "python",
   "nbconvert_exporter": "python",
   "pygments_lexer": "ipython3",
   "version": "3.9.0"
  }
 },
 "nbformat": 4,
 "nbformat_minor": 5
}
