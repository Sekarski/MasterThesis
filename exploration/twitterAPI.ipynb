{
 "cells": [
  {
   "cell_type": "code",
   "execution_count": 10,
   "id": "thermal-church",
   "metadata": {},
   "outputs": [],
   "source": [
    "import twitter\n",
    "from getpass import getpass"
   ]
  },
  {
   "cell_type": "code",
   "execution_count": 13,
   "id": "located-street",
   "metadata": {},
   "outputs": [
    {
     "name": "stdout",
     "output_type": "stream",
     "text": [
      "API key : ········\n",
      "API secret key : ········\n",
      "access token : ········\n",
      "secret access token : ········\n"
     ]
    }
   ],
   "source": [
    "consumer_key = getpass(\"API key : \")\n",
    "consumer_secret = getpass(\"API secret key : \")\n",
    "access_token_key = getpass(\"access token : \")\n",
    "access_token_secret = getpass(\"secret access token : \")\n",
    "\n",
    "api = twitter.Api(consumer_key=consumer_key,\n",
    "                  consumer_secret=consumer_secret,\n",
    "                  access_token_key=access_token_key,\n",
    "                  access_token_secret=access_token_secret)"
   ]
  },
  {
   "cell_type": "code",
   "execution_count": 23,
   "id": "favorite-jersey",
   "metadata": {},
   "outputs": [],
   "source": [
    "statues = api.GetUserTimeline(screen_name='elonmusk',count=200)"
   ]
  },
  {
   "cell_type": "code",
   "execution_count": 24,
   "id": "standard-sheet",
   "metadata": {},
   "outputs": [
    {
     "name": "stdout",
     "output_type": "stream",
     "text": [
      "['@katlinegrey This a good path, but I recommend aiming for full reusability', 'Urgent need to build more housing in greater Austin area!', 'Austin++', 'No it doesn’t hurt at all 🩸 https://t.co/NnL6o1si0V', '@allrocketsboi True', '@GerberKawasaki I fried a lot of neurons on that problem!', 'Me in my sick new car\\n(left him the money) https://t.co/EGaY1FVfHm', '@TrungTPhan Had no money to invest in Zip2, but my founder equity yielded ~$15M after tax. Of that, I rolled ~$10M… https://t.co/C2hVafVQ2k', '@Gfilche Major new Supercharger station coming to Santa Monica soon! Hoping to have 50’s diner &amp; 100 best movie cli… https://t.co/LZKHKd41wu', '@teslaownersSV @Tesla 🤣🤣', '@thesheetztweetz After all, SpaceX’s first payload to orbit &amp; back was a wheel of cheese …', '@FrancisSuarez @boringcompany @alexDLPmiami Glad you enjoyed the experience!', 'SpaceX is going to put a literal Dogecoin on the literal moon', 'Nicheman — his superpower is appealing to small audiences', '@waitbutwhy !!', '@lexfridman True', 'Over 10,000 people are needed for Giga Texas just through 2022!\\n- 5 mins from airport\\n-15 mins from downtown\\n- Righ… https://t.co/8TQPNnFmpe', '@jdeshetler @NASASpaceflight @SpaceX @BocaChicaGal Can be a little foggy sometimes :)', '@Erdayastronaut @LabPadre Barely a scratch. :)\\nBack on the stand soon!\\nWill report conclusions as soon as we know them.', 'Starbase will grow by several thousand people over the next year or two', '@OwenSparks_ I sure hope so!', '@OwenSparks_ Agreed! We’re not super far, as Magic Valley Utility can give us almost all wind-power, which will be… https://t.co/1EyFnfgfcn', 'Probably most “in space” you could possibly feel by being in a glass dome https://t.co/SOAIzxVGgX', 'Am donating $20M to Cameron County schools &amp; $10M to City of Brownsville for downtown revitalization. Details to follow next week.', '@Adamklotz_ @SpaceX BN1 is a manufacturing pathfinder, so will be scrapped. We learned a lot, but have already chan… https://t.co/WcMKtiDK8z', 'Please consider moving to Starbase or greater Brownsville/South Padre area in Texas &amp; encourage friends to do so!… https://t.co/TT5UbgUoU8', '@CodingMark @Adamklotz_ @SpaceX More like V10.0', '@Adamklotz_ @SpaceX Next major technology rev is at SN20. Those ships will be orbit-capable with heat shield &amp; stag… https://t.co/BAAxQa61cf', '@Adamklotz_ @SpaceX SN15 rolls to launch pad in a few days. It has hundreds of design improvements across structure… https://t.co/zTZ8MpdFqf', '@SpaceX Looks like engine 2 had issues on ascent &amp; didn’t reach operating chamber pressure during landing burn, but… https://t.co/1rwfZAJfiz', '@SpaceX At least the crater is in the right place!', '@SpaceX A high production rate solves many ills', '@Tesmanian_com Demand is no problem, but near-term cell supply makes it hard to scale Semi. This limitation will be less onerous next year.', '@Erdayastronaut Tracking to a potential 8am liftoff', '@wapodavenport That would be great, or possibly via video with full access to telemetry', 'FAA inspector unable to reach Starbase in time for launch today. Postponed to no earlier than tomorrow.', 'Possible Starship flight tomorrow afternoon', '@PPathole @nbcsnl Trying', '@ChitaGranger @frost_367 Who is 👌', '@nbcsnl Nice', 'Wholesome memes https://t.co/u5TkHJua8Q', '@summerlinARK We should be laughing our asses off if it’s so damn smart!', '@summerlinARK I wanna know when AI will be able to do standup comedy well!?', '@summerlinARK Sounds about right', '@summerlinARK It’s not really possible to match the human brain in 2021 for any amount of money imo, but it will be… https://t.co/r1pqHA5U0D', '@cleantechnica This is crazy. Should use Tesla Megapacks for load-leveling the grid. More effective, more reliable and costs less.', '@AstroJordy Haha actually true', 'Check out our new crane https://t.co/PE4vL6uKcb', '@RationalEtienne @TwitterSupport @jack This appears to be widespread. I wonder who is doing it …', '@ICannot_Enough @waitbutwhy We are too cell-constrained right now, but probably ok next year', '@waitbutwhy Great video', '@Erdayastronaut @SpaceX @Blackmagic_News @andrutay @bstineman @SpacePadreIsle @considercosmos Standing down SN11 un… https://t.co/eJQfgwDO0a', '@AdamSinger Haha', '@SpaceXMR Heavy comes in more like a javelin. Similar to Falcon 9, but caught by the tower vs landing on legs.', '@WholeMarsBlog I think there is a &gt;0% chance Tesla could be the biggest company', '@cleantechnica Solar has come a long way. Now just needs lots of long-life batteries!', 'RT @Tesla: 6,000+ Superchargers across Europe — at 600 locations and counting!\\n\\n📸 by @EPavlic, @MinimalDuck &amp; @_better_e https://t.co/Yf36H…', '@SpaceXMR 🤣🤣', '@TheOnion Shame on you, Onion. This is why people are switching to @TheBabylonBee!', '@howlpolitically @TheOnion 2/2\\nMy father &amp; his extended family have been dependent on financial support from my bro… https://t.co/hLAXPCGBWC', '@howlpolitically @TheOnion 1/2\\nThis article is false. \\n- I arrived by myself in Canada in ‘89 with ~CA$2500\\n- Paid… https://t.co/tT5AshSsRC', '@JubanMohamed There will be no handles', 'If there’s ever a scandal about me, *please* call it Elongate', '@universal_sci This comment thread is 🔥', 'Don’t defy DeFi', '@itsALLrisky @KimDotcom 👀', 'Mars rover looking back https://t.co/oaFOCezRuU', '@KimDotcom Fair point', '@dogecoinww @MattWallace888 @CorinnaKopf You raise a good point haha', '@blockfolio 🤣🤣', '@EvaFoxU Wow, shame on ZDF Info!', 'RT @SpaceX: Deployment of 60 Starlink satellites confirmed https://t.co/Xcbrq66Mez', '@lexfridman 👍', 'Pay by Bitcoin capability available outside US later this year', 'Tesla is using only internal &amp; open source software &amp; operates Bitcoin nodes directly.\\n\\nBitcoin paid to Tesla will… https://t.co/VngkpaxiVH', 'You can now buy a Tesla with Bitcoin', '@WholeMarsBlog @joeys_lady @DrSej Yup', '@bindureddy And books haha', '@bindureddy You can basically learn anything on YouTube/Reddit', 'RT @Fogdo: Thank you @Tesla for this helpful and cool feature :-) https://t.co/FLuY3yFdSL', '@flcnhvy @arstechnica @SciGuySpace SpaceX will be landing Starships on Mars well before 2030. The really hard thres… https://t.co/36AQOpFrQW', '@RenataKonkoly He was great on many levels https://t.co/exrZ1G9Rqk', 'Strongest argument against aliens https://t.co/eF2FFZpJQE', '@lexfridman @AndrewYang !', '@WholeMarsBlog I once did a road trip across most of US with 2 adults &amp; 5 kids in a Model S!', '@arstechnica @SciGuySpace They are aiming too low. \\n\\nOnly rockets that are fully &amp; rapidly reusable will be competi… https://t.co/xQD6HUODqI', '@WholeMarsBlog The new Plaid S is our best car ever. Will be first production car to achieve 0-60mph in under 2 sec… https://t.co/1YrizvVpfs', '@TheMarsSociety SpaceX is developing rockets needed to make life multiplanetary — full &amp; rapid reusability at large… https://t.co/RmGaXDAYZ5', '@bluemoondance74 @NASASpaceflight Going well. Lot of work for an extra 20 secs of Isp!', '@NASASpaceflight Hopefully will happen this decade', '@newscientist True', '@cleantechnica I am accumulating resources to help make life multiplanetary &amp; extend the light of consciousness to the stars', '@CathieDWood When vast amounts of manufacturing are needed, as in robotaxis, this slows down rate of introduction,… https://t.co/Y6VvEqx4vp', '@Swaggerheim @SciGuySpace Not trying to roast, just being as literal as possible', '@johnkrausphotos 🤣🤣', '@AtomicsAstro @PPathole Yeah, but I’m English', '@SciGuySpace Not quite how I would tell the story, but it’s probably worth a read', '@PPathole This is important', '@TrungTPhan Wow, hard to believe that was 17 years ago!', '@TeslaPhx @CodingMark @EvaFoxU @jrosinski97 @daelmor @piangfa @Kristennetten @jessica_kirsh @JC_finance @jeremyjudkins !', '@Erdayastronaut @Twitter @TwitterComms @verified @jack Sigh', '@OwenSparks_ I actually ate the sandwich haha!', '@TheBabylonBee 🤣🤣', 'Music in zero gravity https://t.co/bepfMipjrE', '@WholeMarsBlog Given significant architectural changes, including fundamental improvements to pure vision, there is… https://t.co/C2oJ58t0g3', '@SpacexVision An orbital propellant depot optimized for cryogenic storage probably makes sense long-term', '@Teslarati Преступленіе и наказаніе', '@MarcusHouse The [ahem] reach-around', '@RationalEtienne @jordanbpeterson We could talk about Life, the Universe and Everything', '@VinterNix @Bell Coming soon!', '@MoMoButFaster 🤣🤣', '@remouherek @SciGuySpace As you can see, I have a long history with using tents!', '@jordanbpeterson What would you like to talk about?', '@teslaownersSV 💯', 'https://t.co/Ngk8SJvDUW', '@melaniemadri @thejackbeyer @NASASpaceflight Floor is installed, elevator is operational, waiting on glass', '@thejackbeyer @NASASpaceflight The high bay is measured to fit!', '@tobyliiiiiiiiii We will need launch tower for that. Hook height for the lift is ~140 m &amp; both booster &amp; ship need… https://t.co/XrJHWxToZf', '@Erdayastronaut Yes, Booster 1 is a production pathfinder, figuring out how to build &amp; transport 70 meter tall stage. Booster 2 will fly.', 'First Super Heavy Booster https://t.co/0K5QPsEbbt', '@lexfridman Sometimes it’s about Doge', '@lexfridman Haha', 'The simulation really struggled to make this look real haha https://t.co/t8zvFTRUHU', 'Aspirationally acerbic alliteration \\n-&gt; Bullshit baffles brains', '@Rjdlandscapes @Erdayastronaut @SpaceX That’s our goal', 'SN11 almost ready to fly https://t.co/fXmjJZOiKk', '@Erdayastronaut @SpaceX cgi irl', 'Actually, doesn’t feel quite right selling this. Will pass.', '@beeple 420M Doge', 'I’m selling this song about NFTs as an NFT https://t.co/B4EZLlesPx', '@Tesmanian_com Yes', '@SciGuySpace SpaceX did 2X rest of world payload to orbit last year, probably 3X to 4X this year', 'I love music. It makes my heart sing.', 'This is good\\n https://t.co/8KATmh2BJx', 'Play your favorite song in a Tesla &amp; turn the volume to 11\\n\\nYou will see. You will feel.', '@____AMiR__ @SpaceX We will support as best we can', '@SpaceX Fly my pretties, fly …', 'A puckish rogue https://t.co/98q8bCT68q', '@leastImAlive @itsALLrisky @vladtenev This is an opportunity for RH to outdo CB!', '@WholeMarsBlog What has become absolutely clear is that the plethora of self-driving corner cases can only be solve… https://t.co/e1f0uS71t1', 'Falcon flies for the 9th time tonight', '@WholeMarsBlog It sees in all directions simultaneously', 'I’m getting a Shiba Inu #resistanceisfutile', '@justpaulinelol Ja', 'Homo sapiens techno: \\nLoves raves &amp; technology', \"RT @SpaceX: Targeting Sunday, March 14 at 6:01 a.m. EDT for Falcon 9's next launch of 60 Starlink satellites. The first stage booster suppo…\", 'Why are you so dogematic, they ask', 'Origin of Doge Day Afternoon:\\nThe ancient Romans sacrificed a Dogecoin at the beginning of the Doge Days to appease… https://t.co/RXfgPvRSHe', 'Doge day afternoon', 'Woketopia. Battle for the Moral High Ground in this new game!', '🎶 This Magic Moment 🎶', '@itsALLrisky Yes!', '@TSLAgang @SpinelessModer1 Yes', '@ashleevance For sure wise for elderly or immunocompromised to take the vaccine. Some debate about the second jab t… https://t.co/UkNNgAIXLm', 'FSD Beta has now been expanded to ~2000 owners &amp; we’ve also revoked beta where drivers did not pay sufficient atten… https://t.co/lRlagKt5Am', '@pflodin @DoctorKarl Absolutely', 'Both do mining &amp; use blocks &amp; chains', 'BTC (Bitcoin) is an anagram of\\nTBC(The Boring Company)\\nWhat a coincidence!', '@FFairing @thejackbeyer @NASASpaceflight Quarks &amp; leptons', '@thejackbeyer @NASASpaceflight Green flame in this context means engine is burning internal components made of copp… https://t.co/cgxkyYGYCu', '@tesla_adri @28delayslater @TrevorMahlmann @SpacePadreIsle Dieses Jahr', '@ErcXspace @SpaceX @NASASpaceflight @Erdayastronaut Transparent aluminum (ALON) might be cool', '@TrevorMahlmann @SpacePadreIsle Celebrating a year of great work by the SpaceX team!', '@DraperYounce Wow!', '@_Shameless_Plug @Falcon9Block5 @bluemoondance74 @arstechnica @SciGuySpace .@BoredElonMusk', '@WholeMarsBlog Like @CyberpunkGame, but *with* self-driving haha', '@PPathole @arstechnica @SciGuySpace If 2021 manifest is met, SpaceX will do ~75% of total Earth payload to orbit wi… https://t.co/oqvtAe3jcq', 'RT @SpaceX: Liftoff! https://t.co/Dth6zbYtR4', '@TezlaMick @arstechnica @SciGuySpace Yes', '@arstechnica @SciGuySpace Falcon 9 is almost always at max capacity. When it has “spare” performance, it flies back… https://t.co/mMiEwfi6OO', '@WholeMarsBlog @Herbert_Diess Fuel cells should be called fool sells! Such a silly choice for cars. Not great even… https://t.co/f7J8qG9P1g', '@PPathole I was just up there. Elevator on the other side. Floor is in, glass coming soon.', '@Erdayastronaut @tobyliiiiiiiiii @NASASpaceflight Yeah, we talked about that internally. Could just have it land on… https://t.co/diOyrv21cp', '@tobyliiiiiiiiii @Erdayastronaut @NASASpaceflight Might just catch the ship with the launch tower, same as booster', '@ashleevance Battery energy density is the key to electric aircraft. Autonomy for aircraft could have been done a l… https://t.co/PzsCPmel6T', '@Erdayastronaut @NASASpaceflight There were baffles, but one may have acted like a straw to suck bubbles in from ab… https://t.co/XLmQmbX8RG', '@Astro_Soichi ♥️ 🇯🇵', '@NASASpaceflight Fair point. If autogenous pressurization had been used, CH4 bubbles would most likely have reverte… https://t.co/U8ZDaPxW3y', '@austinbarnard45 SN10 engine was low on thrust due (probably) to partial helium ingestion from fuel header tank. Im… https://t.co/tricuXwrUw', '@eurotechjunkie @Alpsoy66 @WholeMarsBlog We will ask the regulators', '@WholeMarsBlog Build 8.3 of FSD should be done QA testing by end of next week, so that’s roughly when download button should show up', '@WholeMarsBlog Assuming user approves warning &amp; agrees to drive carefully, it will download latest QA-tested FSD “B… https://t.co/wVrXTyjqNu', '@CyberpunkGame Delamain AI cabs should be able to drive themselves when you’re in them &amp; be electric by 2077', '@WholeMarsBlog … it until you make it', '@thesheetztweetz Not connecting Tesla cars to Starlink, as our terminal is much too big. This is for aircraft, ships, large trucks &amp; RVs.', 'Starbase, Texas https://t.co/mt4IpqqmjF', '@Harbles It’s all hot air in the end haha', '@Teslarati @KlenderJoey Still many fine details to address, but the final product will be fantastic. There’s nothing else even close.', '@WholeMarsBlog @klwtts Haha true. Yet, still, so much dignity is ascribed to horses!', 'Carnot efficiency of the Universe?', '@engineers_feed Ultimately, yes', 'Great band, too bad they broke up https://t.co/VQm7HhHw2M', '@garyblack00 Update probably in Q2. Cybertruck will be built at Giga Texas, so focus right now is on getting that beast built.', '@westcoastbill The $1400 is mostly good imo (UBI lite), as the people get to choose how the money is spent, but the… https://t.co/uOecCJuO6q', '@arctechinc Should be very soon. Many subtle differences between US &amp; Canada roads, so harder than it seems.', '@LarryKellogg @arctechinc The Tesla FSD computer started shipping in volume in Q2 2019. 2020 cars should all have F… https://t.co/3w2weJToWO', 'Availability varies by region due to regulatory approval delays and/or Tesla internal development &amp; testing. \\n\\nNote… https://t.co/pJcaroozd5', 'Due to high levels of demand for FSD Beta, adding “Download Beta” button to Service section of car display in ~10 d… https://t.co/OMj1xwuwMt', 'Doge spelled backwards is Egod', '@WholeMarsBlog Beta V8.3 has literally ~1000 improvements. Will take time to QA internally before release probably in two or three weeks.']\n"
     ]
    }
   ],
   "source": [
    "print([s.text for s in statues])"
   ]
  },
  {
   "cell_type": "code",
   "execution_count": 25,
   "id": "psychological-eating",
   "metadata": {},
   "outputs": [
    {
     "name": "stdout",
     "output_type": "stream",
     "text": [
      "{\"created_at\": \"Sat Mar 06 04:08:29 +0000 2021\", \"favorite_count\": 4760, \"hashtags\": [], \"id\": 1368050830797021187, \"id_str\": \"1368050830797021187\", \"in_reply_to_screen_name\": \"WholeMarsBlog\", \"in_reply_to_status_id\": 1368049992263331841, \"in_reply_to_user_id\": 1263491240336769026, \"lang\": \"en\", \"retweet_count\": 401, \"source\": \"<a href=\\\"http://twitter.com/download/iphone\\\" rel=\\\"nofollow\\\">Twitter for iPhone</a>\", \"text\": \"@WholeMarsBlog Beta V8.3 has literally ~1000 improvements. Will take time to QA internally before release probably in two or three weeks.\", \"urls\": [], \"user\": {\"created_at\": \"Tue Jun 02 20:12:29 +0000 2009\", \"description\": \"Technoking of Tesla\", \"favourites_count\": 8391, \"followers_count\": 50207899, \"friends_count\": 104, \"id\": 44196397, \"id_str\": \"44196397\", \"listed_count\": 67064, \"name\": \"Elon Musk\", \"profile_background_color\": \"C0DEED\", \"profile_background_image_url\": \"http://abs.twimg.com/images/themes/theme1/bg.png\", \"profile_background_image_url_https\": \"https://abs.twimg.com/images/themes/theme1/bg.png\", \"profile_banner_url\": \"https://pbs.twimg.com/profile_banners/44196397/1576183471\", \"profile_image_url\": \"http://pbs.twimg.com/profile_images/1364491704817098753/V22-Luf7_normal.jpg\", \"profile_image_url_https\": \"https://pbs.twimg.com/profile_images/1364491704817098753/V22-Luf7_normal.jpg\", \"profile_link_color\": \"0084B4\", \"profile_sidebar_border_color\": \"C0DEED\", \"profile_sidebar_fill_color\": \"DDEEF6\", \"profile_text_color\": \"333333\", \"profile_use_background_image\": true, \"screen_name\": \"elonmusk\", \"statuses_count\": 13940, \"verified\": true}, \"user_mentions\": [{\"id\": 1263491240336769026, \"id_str\": \"1263491240336769026\", \"name\": \"Whole Mars Catalog\", \"screen_name\": \"WholeMarsBlog\"}]}\n"
     ]
    }
   ],
   "source": [
    "print(statues[-1])"
   ]
  }
 ],
 "metadata": {
  "kernelspec": {
   "display_name": "Python 3",
   "language": "python",
   "name": "python3"
  },
  "language_info": {
   "codemirror_mode": {
    "name": "ipython",
    "version": 3
   },
   "file_extension": ".py",
   "mimetype": "text/x-python",
   "name": "python",
   "nbconvert_exporter": "python",
   "pygments_lexer": "ipython3",
   "version": "3.9.0"
  }
 },
 "nbformat": 4,
 "nbformat_minor": 5
}
