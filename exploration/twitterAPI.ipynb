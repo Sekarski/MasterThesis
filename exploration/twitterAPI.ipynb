{
 "cells": [
  {
   "cell_type": "code",
   "execution_count": 12,
   "id": "thermal-church",
   "metadata": {},
   "outputs": [],
   "source": [
    "#import twitter\n",
    "import pickle\n",
    "import pandas as pd\n",
    "from getpass import getpass\n",
    "from matplotlib import pyplot as plt"
   ]
  },
  {
   "cell_type": "code",
   "execution_count": 173,
   "id": "located-street",
   "metadata": {},
   "outputs": [
    {
     "name": "stdout",
     "output_type": "stream",
     "text": [
      "API key : ········\n",
      "API secret key : ········\n",
      "access token : ········\n",
      "secret access token : ········\n"
     ]
    }
   ],
   "source": [
    "consumer_key = getpass(\"API key : \")\n",
    "consumer_secret = getpass(\"API secret key : \")\n",
    "access_token_key = getpass(\"access token : \")\n",
    "access_token_secret = getpass(\"secret access token : \")\n",
    "\n",
    "api = twitter.Api(consumer_key=consumer_key,\n",
    "                  consumer_secret=consumer_secret,\n",
    "                  access_token_key=access_token_key,\n",
    "                  access_token_secret=access_token_secret)"
   ]
  },
  {
   "cell_type": "code",
   "execution_count": 43,
   "id": "agricultural-cherry",
   "metadata": {},
   "outputs": [],
   "source": [
    "statuses = api.GetUserTimeline(screen_name='elonmusk',count=200)"
   ]
  },
  {
   "cell_type": "code",
   "execution_count": 44,
   "id": "small-kitchen",
   "metadata": {},
   "outputs": [
    {
     "name": "stdout",
     "output_type": "stream",
     "text": [
      "200\n"
     ]
    }
   ],
   "source": [
    "print(len(statuses))"
   ]
  },
  {
   "cell_type": "code",
   "execution_count": 52,
   "id": "stretch-microphone",
   "metadata": {},
   "outputs": [
    {
     "name": "stdout",
     "output_type": "stream",
     "text": [
      "1370947478355333123\n"
     ]
    }
   ],
   "source": [
    "last_id = statuses[-1].id\n",
    "print(last_id)"
   ]
  },
  {
   "cell_type": "code",
   "execution_count": 50,
   "id": "czech-patient",
   "metadata": {},
   "outputs": [],
   "source": [
    "res = api.GetUserTimeline(screen_name='elonmusk',count=200,max_id=last_id)"
   ]
  },
  {
   "cell_type": "code",
   "execution_count": 51,
   "id": "conditional-driver",
   "metadata": {},
   "outputs": [
    {
     "name": "stdout",
     "output_type": "stream",
     "text": [
      "200\n"
     ]
    }
   ],
   "source": [
    "print(len(res))"
   ]
  },
  {
   "cell_type": "code",
   "execution_count": 48,
   "id": "favorite-jersey",
   "metadata": {},
   "outputs": [],
   "source": [
    "stop = False\n",
    "while not stop:\n",
    "    res = api.GetUserTimeline(screen_name='elonmusk',count=200,max_id=last_id)\n",
    "    statuses = statuses + res[1:]\n",
    "    last_id = statuses[-1].id\n",
    "    if len(res)<200:\n",
    "        stop=True"
   ]
  },
  {
   "cell_type": "code",
   "execution_count": 49,
   "id": "standard-sheet",
   "metadata": {},
   "outputs": [
    {
     "name": "stdout",
     "output_type": "stream",
     "text": [
      "200\n"
     ]
    }
   ],
   "source": [
    "print(len(statuses))"
   ]
  },
  {
   "cell_type": "code",
   "execution_count": 32,
   "id": "psychological-eating",
   "metadata": {},
   "outputs": [
    {
     "name": "stdout",
     "output_type": "stream",
     "text": [
      "{\"created_at\": \"Sat Dec 26 19:04:29 +0000 2020\", \"favorite_count\": 1635, \"hashtags\": [], \"id\": 1342909163903455233, \"id_str\": \"1342909163903455233\", \"in_reply_to_screen_name\": \"IvanEscobosa\", \"in_reply_to_status_id\": 1342908972030836737, \"in_reply_to_user_id\": 286507556, \"lang\": \"en\", \"retweet_count\": 68, \"source\": \"<a href=\\\"http://twitter.com/download/iphone\\\" rel=\\\"nofollow\\\">Twitter for iPhone</a>\", \"text\": \"@IvanEscobosa @Erdayastronaut @teslaownersSV A few more revisions needed. Probably Beta 10 or 11.\", \"urls\": [], \"user\": {\"created_at\": \"Tue Jun 02 20:12:29 +0000 2009\", \"description\": \"Technoking of Tesla\", \"favourites_count\": 8418, \"followers_count\": 50435719, \"friends_count\": 104, \"id\": 44196397, \"id_str\": \"44196397\", \"listed_count\": 67258, \"name\": \"Elon Musk\", \"profile_background_color\": \"C0DEED\", \"profile_background_image_url\": \"http://abs.twimg.com/images/themes/theme1/bg.png\", \"profile_background_image_url_https\": \"https://abs.twimg.com/images/themes/theme1/bg.png\", \"profile_banner_url\": \"https://pbs.twimg.com/profile_banners/44196397/1576183471\", \"profile_image_url\": \"http://pbs.twimg.com/profile_images/1364491704817098753/V22-Luf7_normal.jpg\", \"profile_image_url_https\": \"https://pbs.twimg.com/profile_images/1364491704817098753/V22-Luf7_normal.jpg\", \"profile_link_color\": \"0084B4\", \"profile_sidebar_border_color\": \"C0DEED\", \"profile_sidebar_fill_color\": \"DDEEF6\", \"profile_text_color\": \"333333\", \"profile_use_background_image\": true, \"screen_name\": \"elonmusk\", \"statuses_count\": 13978, \"verified\": true}, \"user_mentions\": [{\"id\": 286507556, \"id_str\": \"286507556\", \"name\": \"Ivan Escobosa\", \"screen_name\": \"IvanEscobosa\"}, {\"id\": 3167257102, \"id_str\": \"3167257102\", \"name\": \"Everyday Astronaut\", \"screen_name\": \"Erdayastronaut\"}, {\"id\": 1016059981907386368, \"id_str\": \"1016059981907386368\", \"name\": \"Tesla Owners of Silicon Valley\", \"screen_name\": \"teslaownersSV\"}]}\n"
     ]
    }
   ],
   "source": [
    "print(statuses[-1])"
   ]
  },
  {
   "cell_type": "code",
   "execution_count": 147,
   "id": "vanilla-initial",
   "metadata": {},
   "outputs": [
    {
     "name": "stdout",
     "output_type": "stream",
     "text": [
      "1256243674268098561\n"
     ]
    }
   ],
   "source": [
    "last_id = statuses[-1].id\n",
    "print(last_id)"
   ]
  },
  {
   "cell_type": "code",
   "execution_count": 184,
   "id": "concerned-quarter",
   "metadata": {},
   "outputs": [],
   "source": [
    "res = api.GetUserTimeline(screen_name='elonmusk',count=200,max_id=last_id)"
   ]
  },
  {
   "cell_type": "code",
   "execution_count": 146,
   "id": "special-center",
   "metadata": {},
   "outputs": [],
   "source": [
    "statuses = statuses + res"
   ]
  },
  {
   "cell_type": "code",
   "execution_count": 185,
   "id": "selected-somewhere",
   "metadata": {},
   "outputs": [
    {
     "name": "stdout",
     "output_type": "stream",
     "text": [
      "number of statuses:  3263\n",
      "id= 1380487877209956357 , date= Fri Apr 09 11:48:52 +0000 2021 , text= Epilogue is not quite on target though\n",
      "id= 1256243674268098561 , date= Fri May 01 15:26:46 +0000 2020 , text= And the rocket's red glare, \n",
      "the bombs bursting in air\n",
      "\n",
      "\n",
      "number of statuses in last call:  0\n"
     ]
    },
    {
     "ename": "IndexError",
     "evalue": "list index out of range",
     "output_type": "error",
     "traceback": [
      "\u001b[0;31m---------------------------------------------------------------------------\u001b[0m",
      "\u001b[0;31mIndexError\u001b[0m                                Traceback (most recent call last)",
      "\u001b[0;32m<ipython-input-185-3e4748a89a92>\u001b[0m in \u001b[0;36m<module>\u001b[0;34m\u001b[0m\n\u001b[1;32m      4\u001b[0m \u001b[0mprint\u001b[0m\u001b[0;34m(\u001b[0m\u001b[0;34m\"\\n\"\u001b[0m\u001b[0;34m)\u001b[0m\u001b[0;34m\u001b[0m\u001b[0;34m\u001b[0m\u001b[0m\n\u001b[1;32m      5\u001b[0m \u001b[0mprint\u001b[0m\u001b[0;34m(\u001b[0m\u001b[0;34m\"number of statuses in last call: \"\u001b[0m\u001b[0;34m,\u001b[0m\u001b[0mlen\u001b[0m\u001b[0;34m(\u001b[0m\u001b[0mres\u001b[0m\u001b[0;34m)\u001b[0m\u001b[0;34m)\u001b[0m\u001b[0;34m\u001b[0m\u001b[0;34m\u001b[0m\u001b[0m\n\u001b[0;32m----> 6\u001b[0;31m \u001b[0mprint\u001b[0m\u001b[0;34m(\u001b[0m\u001b[0;34m\"id=\"\u001b[0m\u001b[0;34m,\u001b[0m\u001b[0mres\u001b[0m\u001b[0;34m[\u001b[0m\u001b[0;36m0\u001b[0m\u001b[0;34m]\u001b[0m\u001b[0;34m.\u001b[0m\u001b[0mid\u001b[0m\u001b[0;34m,\u001b[0m\u001b[0;34m\", date=\"\u001b[0m\u001b[0;34m,\u001b[0m\u001b[0mres\u001b[0m\u001b[0;34m[\u001b[0m\u001b[0;36m0\u001b[0m\u001b[0;34m]\u001b[0m\u001b[0;34m.\u001b[0m\u001b[0mcreated_at\u001b[0m\u001b[0;34m,\u001b[0m\u001b[0;34m\", text=\"\u001b[0m\u001b[0;34m,\u001b[0m\u001b[0mres\u001b[0m\u001b[0;34m[\u001b[0m\u001b[0;36m0\u001b[0m\u001b[0;34m]\u001b[0m\u001b[0;34m.\u001b[0m\u001b[0mtext\u001b[0m\u001b[0;34m)\u001b[0m\u001b[0;34m\u001b[0m\u001b[0;34m\u001b[0m\u001b[0m\n\u001b[0m\u001b[1;32m      7\u001b[0m \u001b[0mprint\u001b[0m\u001b[0;34m(\u001b[0m\u001b[0;34m\"id=\"\u001b[0m\u001b[0;34m,\u001b[0m\u001b[0mres\u001b[0m\u001b[0;34m[\u001b[0m\u001b[0;34m-\u001b[0m\u001b[0;36m1\u001b[0m\u001b[0;34m]\u001b[0m\u001b[0;34m.\u001b[0m\u001b[0mid\u001b[0m\u001b[0;34m,\u001b[0m\u001b[0;34m\", date=\"\u001b[0m\u001b[0;34m,\u001b[0m\u001b[0mres\u001b[0m\u001b[0;34m[\u001b[0m\u001b[0;34m-\u001b[0m\u001b[0;36m1\u001b[0m\u001b[0;34m]\u001b[0m\u001b[0;34m.\u001b[0m\u001b[0mcreated_at\u001b[0m\u001b[0;34m,\u001b[0m\u001b[0;34m\", text=\"\u001b[0m\u001b[0;34m,\u001b[0m\u001b[0mres\u001b[0m\u001b[0;34m[\u001b[0m\u001b[0;34m-\u001b[0m\u001b[0;36m1\u001b[0m\u001b[0;34m]\u001b[0m\u001b[0;34m.\u001b[0m\u001b[0mtext\u001b[0m\u001b[0;34m)\u001b[0m\u001b[0;34m\u001b[0m\u001b[0;34m\u001b[0m\u001b[0m\n",
      "\u001b[0;31mIndexError\u001b[0m: list index out of range"
     ]
    }
   ],
   "source": [
    "print(\"number of statuses: \",len(statuses))\n",
    "print(\"id=\",statuses[0].id,\", date=\",statuses[0].created_at,\", text=\",statuses[0].text)\n",
    "print(\"id=\",statuses[-1].id,\", date=\",statuses[-1].created_at,\", text=\",statuses[-1].text)\n",
    "print(\"\\n\")\n",
    "print(\"number of statuses in last call: \",len(res))\n",
    "print(\"id=\",res[0].id,\", date=\",res[0].created_at,\", text=\",res[0].text)\n",
    "print(\"id=\",res[-1].id,\", date=\",res[-1].created_at,\", text=\",res[-1].text)"
   ]
  },
  {
   "cell_type": "code",
   "execution_count": 199,
   "id": "above-proposition",
   "metadata": {},
   "outputs": [],
   "source": [
    "#twitter_data = pd.json_normalize(statuses)\n",
    "statuses_dicts = []\n",
    "for s in statuses:\n",
    "    statuses_dicts.append(s.AsDict())"
   ]
  },
  {
   "cell_type": "code",
   "execution_count": 200,
   "id": "medieval-reference",
   "metadata": {},
   "outputs": [
    {
     "data": {
      "text/html": [
       "<div>\n",
       "<style scoped>\n",
       "    .dataframe tbody tr th:only-of-type {\n",
       "        vertical-align: middle;\n",
       "    }\n",
       "\n",
       "    .dataframe tbody tr th {\n",
       "        vertical-align: top;\n",
       "    }\n",
       "\n",
       "    .dataframe thead th {\n",
       "        text-align: right;\n",
       "    }\n",
       "</style>\n",
       "<table border=\"1\" class=\"dataframe\">\n",
       "  <thead>\n",
       "    <tr style=\"text-align: right;\">\n",
       "      <th></th>\n",
       "      <th>created_at</th>\n",
       "      <th>favorite_count</th>\n",
       "      <th>hashtags</th>\n",
       "      <th>id</th>\n",
       "      <th>id_str</th>\n",
       "      <th>in_reply_to_screen_name</th>\n",
       "      <th>in_reply_to_status_id</th>\n",
       "      <th>in_reply_to_user_id</th>\n",
       "      <th>lang</th>\n",
       "      <th>retweet_count</th>\n",
       "      <th>...</th>\n",
       "      <th>urls</th>\n",
       "      <th>user</th>\n",
       "      <th>user_mentions</th>\n",
       "      <th>quoted_status</th>\n",
       "      <th>quoted_status_id</th>\n",
       "      <th>quoted_status_id_str</th>\n",
       "      <th>media</th>\n",
       "      <th>truncated</th>\n",
       "      <th>retweeted_status</th>\n",
       "      <th>possibly_sensitive</th>\n",
       "    </tr>\n",
       "  </thead>\n",
       "  <tbody>\n",
       "    <tr>\n",
       "      <th>0</th>\n",
       "      <td>Fri Apr 09 11:48:52 +0000 2021</td>\n",
       "      <td>12968.0</td>\n",
       "      <td>[]</td>\n",
       "      <td>1380487877209956357</td>\n",
       "      <td>1380487877209956357</td>\n",
       "      <td>elonmusk</td>\n",
       "      <td>1.380481e+18</td>\n",
       "      <td>4.419640e+07</td>\n",
       "      <td>en</td>\n",
       "      <td>422</td>\n",
       "      <td>...</td>\n",
       "      <td>[]</td>\n",
       "      <td>{'created_at': 'Tue Jun 02 20:12:29 +0000 2009...</td>\n",
       "      <td>[]</td>\n",
       "      <td>NaN</td>\n",
       "      <td>NaN</td>\n",
       "      <td>NaN</td>\n",
       "      <td>NaN</td>\n",
       "      <td>NaN</td>\n",
       "      <td>NaN</td>\n",
       "      <td>NaN</td>\n",
       "    </tr>\n",
       "    <tr>\n",
       "      <th>1</th>\n",
       "      <td>Fri Apr 09 11:24:30 +0000 2021</td>\n",
       "      <td>19984.0</td>\n",
       "      <td>[]</td>\n",
       "      <td>1380481743531089924</td>\n",
       "      <td>1380481743531089924</td>\n",
       "      <td>elonmusk</td>\n",
       "      <td>1.380481e+18</td>\n",
       "      <td>4.419640e+07</td>\n",
       "      <td>en</td>\n",
       "      <td>540</td>\n",
       "      <td>...</td>\n",
       "      <td>[]</td>\n",
       "      <td>{'created_at': 'Tue Jun 02 20:12:29 +0000 2009...</td>\n",
       "      <td>[]</td>\n",
       "      <td>NaN</td>\n",
       "      <td>NaN</td>\n",
       "      <td>NaN</td>\n",
       "      <td>NaN</td>\n",
       "      <td>NaN</td>\n",
       "      <td>NaN</td>\n",
       "      <td>NaN</td>\n",
       "    </tr>\n",
       "    <tr>\n",
       "      <th>2</th>\n",
       "      <td>Fri Apr 09 11:21:13 +0000 2021</td>\n",
       "      <td>36855.0</td>\n",
       "      <td>[]</td>\n",
       "      <td>1380480918243090433</td>\n",
       "      <td>1380480918243090433</td>\n",
       "      <td>NaN</td>\n",
       "      <td>NaN</td>\n",
       "      <td>NaN</td>\n",
       "      <td>en</td>\n",
       "      <td>2439</td>\n",
       "      <td>...</td>\n",
       "      <td>[{'expanded_url': 'https://twitter.com/sciguys...</td>\n",
       "      <td>{'created_at': 'Tue Jun 02 20:12:29 +0000 2009...</td>\n",
       "      <td>[]</td>\n",
       "      <td>{'created_at': 'Mon Sep 28 14:47:26 +0000 2020...</td>\n",
       "      <td>1.310592e+18</td>\n",
       "      <td>1310591955374665729</td>\n",
       "      <td>NaN</td>\n",
       "      <td>NaN</td>\n",
       "      <td>NaN</td>\n",
       "      <td>NaN</td>\n",
       "    </tr>\n",
       "    <tr>\n",
       "      <th>3</th>\n",
       "      <td>Fri Apr 09 07:35:55 +0000 2021</td>\n",
       "      <td>2489.0</td>\n",
       "      <td>[]</td>\n",
       "      <td>1380424218261692418</td>\n",
       "      <td>1380424218261692418</td>\n",
       "      <td>TeslaGong</td>\n",
       "      <td>1.380424e+18</td>\n",
       "      <td>1.008296e+18</td>\n",
       "      <td>en</td>\n",
       "      <td>67</td>\n",
       "      <td>...</td>\n",
       "      <td>[]</td>\n",
       "      <td>{'created_at': 'Tue Jun 02 20:12:29 +0000 2009...</td>\n",
       "      <td>[{'id': 1008296232261783552, 'id_str': '100829...</td>\n",
       "      <td>NaN</td>\n",
       "      <td>NaN</td>\n",
       "      <td>NaN</td>\n",
       "      <td>NaN</td>\n",
       "      <td>NaN</td>\n",
       "      <td>NaN</td>\n",
       "      <td>NaN</td>\n",
       "    </tr>\n",
       "    <tr>\n",
       "      <th>4</th>\n",
       "      <td>Fri Apr 09 07:35:17 +0000 2021</td>\n",
       "      <td>1094.0</td>\n",
       "      <td>[]</td>\n",
       "      <td>1380424061105266695</td>\n",
       "      <td>1380424061105266695</td>\n",
       "      <td>mikevanbus</td>\n",
       "      <td>1.380377e+18</td>\n",
       "      <td>1.181674e+18</td>\n",
       "      <td>en</td>\n",
       "      <td>30</td>\n",
       "      <td>...</td>\n",
       "      <td>[]</td>\n",
       "      <td>{'created_at': 'Tue Jun 02 20:12:29 +0000 2009...</td>\n",
       "      <td>[{'id': 1181674437986471936, 'id_str': '118167...</td>\n",
       "      <td>NaN</td>\n",
       "      <td>NaN</td>\n",
       "      <td>NaN</td>\n",
       "      <td>NaN</td>\n",
       "      <td>NaN</td>\n",
       "      <td>NaN</td>\n",
       "      <td>NaN</td>\n",
       "    </tr>\n",
       "  </tbody>\n",
       "</table>\n",
       "<p>5 rows × 22 columns</p>\n",
       "</div>"
      ],
      "text/plain": [
       "                       created_at  favorite_count hashtags  \\\n",
       "0  Fri Apr 09 11:48:52 +0000 2021         12968.0       []   \n",
       "1  Fri Apr 09 11:24:30 +0000 2021         19984.0       []   \n",
       "2  Fri Apr 09 11:21:13 +0000 2021         36855.0       []   \n",
       "3  Fri Apr 09 07:35:55 +0000 2021          2489.0       []   \n",
       "4  Fri Apr 09 07:35:17 +0000 2021          1094.0       []   \n",
       "\n",
       "                    id               id_str in_reply_to_screen_name  \\\n",
       "0  1380487877209956357  1380487877209956357                elonmusk   \n",
       "1  1380481743531089924  1380481743531089924                elonmusk   \n",
       "2  1380480918243090433  1380480918243090433                     NaN   \n",
       "3  1380424218261692418  1380424218261692418               TeslaGong   \n",
       "4  1380424061105266695  1380424061105266695              mikevanbus   \n",
       "\n",
       "   in_reply_to_status_id  in_reply_to_user_id lang  retweet_count  ...  \\\n",
       "0           1.380481e+18         4.419640e+07   en            422  ...   \n",
       "1           1.380481e+18         4.419640e+07   en            540  ...   \n",
       "2                    NaN                  NaN   en           2439  ...   \n",
       "3           1.380424e+18         1.008296e+18   en             67  ...   \n",
       "4           1.380377e+18         1.181674e+18   en             30  ...   \n",
       "\n",
       "                                                urls  \\\n",
       "0                                                 []   \n",
       "1                                                 []   \n",
       "2  [{'expanded_url': 'https://twitter.com/sciguys...   \n",
       "3                                                 []   \n",
       "4                                                 []   \n",
       "\n",
       "                                                user  \\\n",
       "0  {'created_at': 'Tue Jun 02 20:12:29 +0000 2009...   \n",
       "1  {'created_at': 'Tue Jun 02 20:12:29 +0000 2009...   \n",
       "2  {'created_at': 'Tue Jun 02 20:12:29 +0000 2009...   \n",
       "3  {'created_at': 'Tue Jun 02 20:12:29 +0000 2009...   \n",
       "4  {'created_at': 'Tue Jun 02 20:12:29 +0000 2009...   \n",
       "\n",
       "                                       user_mentions  \\\n",
       "0                                                 []   \n",
       "1                                                 []   \n",
       "2                                                 []   \n",
       "3  [{'id': 1008296232261783552, 'id_str': '100829...   \n",
       "4  [{'id': 1181674437986471936, 'id_str': '118167...   \n",
       "\n",
       "                                       quoted_status quoted_status_id  \\\n",
       "0                                                NaN              NaN   \n",
       "1                                                NaN              NaN   \n",
       "2  {'created_at': 'Mon Sep 28 14:47:26 +0000 2020...     1.310592e+18   \n",
       "3                                                NaN              NaN   \n",
       "4                                                NaN              NaN   \n",
       "\n",
       "  quoted_status_id_str  media truncated retweeted_status possibly_sensitive  \n",
       "0                  NaN    NaN       NaN              NaN                NaN  \n",
       "1                  NaN    NaN       NaN              NaN                NaN  \n",
       "2  1310591955374665729    NaN       NaN              NaN                NaN  \n",
       "3                  NaN    NaN       NaN              NaN                NaN  \n",
       "4                  NaN    NaN       NaN              NaN                NaN  \n",
       "\n",
       "[5 rows x 22 columns]"
      ]
     },
     "execution_count": 200,
     "metadata": {},
     "output_type": "execute_result"
    }
   ],
   "source": [
    "twitter_data = pd.DataFrame(statuses_dicts)\n",
    "twitter_data.head()"
   ]
  },
  {
   "cell_type": "code",
   "execution_count": 202,
   "id": "biological-identifier",
   "metadata": {},
   "outputs": [],
   "source": [
    "pickle.dump(twitter_data, open(\"../data/twitter_musk.pickle\",'wb'))"
   ]
  },
  {
   "cell_type": "code",
   "execution_count": 204,
   "id": "lovely-curtis",
   "metadata": {},
   "outputs": [
    {
     "data": {
      "text/plain": [
       "[<matplotlib.lines.Line2D at 0x113d48430>]"
      ]
     },
     "execution_count": 204,
     "metadata": {},
     "output_type": "execute_result"
    },
    {
     "data": {
      "image/png": "[encoded data removed]",
      "text/plain": [
       "<Figure size 432x288 with 1 Axes>"
      ]
     },
     "metadata": {
      "needs_background": "light"
     },
     "output_type": "display_data"
    }
   ],
   "source": [
    "plt.plot(twitter_data[\"created_at\"][:],twitter_data[\"favorite_count\"][:])"
   ]
  },
  {
   "cell_type": "markdown",
   "id": "fc845672",
   "metadata": {},
   "source": [
    "# New try with academic research account and v2 endpoints"
   ]
  },
  {
   "cell_type": "markdown",
   "id": "62d5b587",
   "metadata": {},
   "source": [
    "### Imports"
   ]
  },
  {
   "cell_type": "code",
   "execution_count": 51,
   "id": "c3013894",
   "metadata": {},
   "outputs": [],
   "source": [
    "from searchtweets import ResultStream, gen_request_parameters, load_credentials, collect_results, convert_utc_time"
   ]
  },
  {
   "cell_type": "markdown",
   "id": "e631af30",
   "metadata": {},
   "source": [
    "### API credentials\n",
    "My API authentication tokens and keys are kept in a YAML file, outside of the git repo, to keep them confidential. Here I load them from the file."
   ]
  },
  {
   "cell_type": "code",
   "execution_count": 2,
   "id": "b3a9c5b3",
   "metadata": {},
   "outputs": [],
   "source": [
    "credential_file = \"../../.twitter_keys.yaml\"\n",
    "search_args = load_credentials(credential_file,yaml_key=\"search_tweets_v2\",env_overwrite=False)"
   ]
  },
  {
   "cell_type": "markdown",
   "id": "ff1900bd",
   "metadata": {},
   "source": [
    "### building the first query parameters\n",
    "Searching only tweets from Musk, and getting the dates, content, and public metrics. Only 500 tweets can be returned per API call"
   ]
  },
  {
   "cell_type": "code",
   "execution_count": 78,
   "id": "83e3da21",
   "metadata": {},
   "outputs": [
    {
     "name": "stdout",
     "output_type": "stream",
     "text": [
      "{\"query\": \"from:elonmusk\", \"max_results\": 500, \"tweet.fields\": \"id,created_at,text,public_metrics,author_id\"}\n"
     ]
    }
   ],
   "source": [
    "query = gen_request_parameters(\"from:elonmusk\",tweet_fields=\"id,created_at,text,public_metrics,author_id\",results_per_call=500)\n",
    "print(query)"
   ]
  },
  {
   "cell_type": "markdown",
   "id": "5327ceac",
   "metadata": {},
   "source": [
    "### Making the API call"
   ]
  },
  {
   "cell_type": "code",
   "execution_count": 79,
   "id": "84186c76",
   "metadata": {},
   "outputs": [],
   "source": [
    "tweets = collect_results(query,max_tweets=500,result_stream_args=search_args)"
   ]
  },
  {
   "cell_type": "markdown",
   "id": "a87200a2",
   "metadata": {},
   "source": [
    "### Cheking the result\n",
    "to make sure it looks like what I want"
   ]
  },
  {
   "cell_type": "code",
   "execution_count": 215,
   "id": "177c3b87",
   "metadata": {},
   "outputs": [
    {
     "name": "stdout",
     "output_type": "stream",
     "text": [
      "97\n",
      "@sandt_tyler Yes {'retweet_count': 15, 'reply_count': 21, 'like_count': 696, 'quote_count': 7}\n",
      "\n",
      "@somepitch Yes {'retweet_count': 15, 'reply_count': 10, 'like_count': 619, 'quote_count': 9}\n",
      "\n",
      "@Erdayastronaut Yes {'retweet_count': 30, 'reply_count': 53, 'like_count': 1377, 'quote_count': 9}\n",
      "\n",
      "RT @JaneidyEve: SpaceX first Starship hopper under Texas Boca Chica Beach's cloudy sky.\n",
      "@elonmusk #Starship #SpaceX https://t.co/hVg5Ken7Vp {'retweet_count': 2536, 'reply_count': 0, 'like_count': 0, 'quote_count': 0}\n",
      "\n",
      "This is for suborbital VTOL tests. Orbital version is taller, has thicker skins (won’t wrinkle) &amp; a smoothly curving nose section. {'retweet_count': 1007, 'reply_count': 579, 'like_count': 18458, 'quote_count': 68}\n",
      "\n",
      "Starship test flight rocket just finished assembly at the @SpaceX Texas launch site. This is an actual picture, not a rendering. https://t.co/k1HkueoXaz {'retweet_count': 20844, 'reply_count': 4463, 'like_count': 118142, 'quote_count': 3082}\n",
      "\n",
      "RT @cleantechnica: Tesla Has The Highest Customer Loyalty Of All Car Brands https://t.co/j25kZqP1bf https://t.co/67icgKmVnb {'retweet_count': 636, 'reply_count': 0, 'like_count': 0, 'quote_count': 0}\n",
      "\n",
      "@deepbluecea @ruboyad Yes {'retweet_count': 16, 'reply_count': 34, 'like_count': 978, 'quote_count': 8}\n",
      "\n",
      "@FredericLambert @DMC_Ryan Getting some regulatory pushback. May not be available in all regions. {'retweet_count': 36, 'reply_count': 66, 'like_count': 982, 'quote_count': 14}\n",
      "\n",
      "@DMC_Ryan Going through final validation &amp; regulatory approval. Probably releases to early access program owners in a few weeks. It’s trippy! {'retweet_count': 70, 'reply_count': 54, 'like_count': 1664, 'quote_count': 22}\n",
      "\n"
     ]
    },
    {
     "data": {
      "text/plain": [
       "[None, None, None, None, None, None, None, None, None, None]"
      ]
     },
     "execution_count": 215,
     "metadata": {},
     "output_type": "execute_result"
    }
   ],
   "source": [
    "print(len(tweets))\n",
    "[print(tweet['text'],tweet['public_metrics'], end='\\n\\n') for tweet in tweets[0:10]]"
   ]
  },
  {
   "cell_type": "markdown",
   "id": "c7f65bd9",
   "metadata": {},
   "source": [
    "### first and last tweet recovered by the call\n",
    "we neglect the last \"tweet\" because it's not actually a tweet, but meta data about the api call return, see bellow"
   ]
  },
  {
   "cell_type": "code",
   "execution_count": 216,
   "id": "3bc06f56",
   "metadata": {},
   "outputs": [
    {
     "name": "stdout",
     "output_type": "stream",
     "text": [
      "2019-01-11T03:49:06.000Z\n",
      "2019-01-01T00:20:48.000Z\n"
     ]
    }
   ],
   "source": [
    "print(tweets[0]['created_at'], end='\\n')\n",
    "print(tweets[-2]['created_at'], end='\\n')"
   ]
  },
  {
   "cell_type": "markdown",
   "id": "5bd9366d",
   "metadata": {},
   "source": [
    "We see that the last \"tweet\" is not actually a tweet"
   ]
  },
  {
   "cell_type": "code",
   "execution_count": 217,
   "id": "1a56e1e9",
   "metadata": {},
   "outputs": [
    {
     "name": "stdout",
     "output_type": "stream",
     "text": [
      "{'newest_id': '1083571475599245312', 'oldest_id': '1079895177970372608', 'result_count': 96}\n",
      "{'created_at': '2019-01-01T00:20:48.000Z', 'text': 'Haha', 'public_metrics': {'retweet_count': 27048, 'reply_count': 4995, 'like_count': 158071, 'quote_count': 4233}, 'author_id': '44196397', 'id': '1079895177970372608'}\n",
      "{'created_at': '2019-01-01T02:09:18.000Z', 'text': '@IanReyTamayo Haha', 'public_metrics': {'retweet_count': 757, 'reply_count': 856, 'like_count': 21111, 'quote_count': 491}, 'author_id': '44196397', 'id': '1079922484445495296'}\n"
     ]
    }
   ],
   "source": [
    "print(tweets[-1])\n",
    "print(tweets[-2])\n",
    "print(tweets[-3])"
   ]
  },
  {
   "cell_type": "markdown",
   "id": "adbb3b1e",
   "metadata": {},
   "source": [
    "### Collecting all the call results in one list\n",
    "Since each call only returns 500 tweets max, we have to do multiple calls, and then group them all together to get all the data we need. Here I do this by manually looping, but I'll implement a automatic loop later in this notebook. Here I just want to get all the data once, and make sure it all goes smooth before automating for other searches (like maybe @Tesla)"
   ]
  },
  {
   "cell_type": "code",
   "execution_count": 89,
   "id": "1f23edc7",
   "metadata": {},
   "outputs": [],
   "source": [
    "data = []"
   ]
  },
  {
   "cell_type": "markdown",
   "id": "8c3c617f",
   "metadata": {},
   "source": [
    "updating the list:"
   ]
  },
  {
   "cell_type": "code",
   "execution_count": 218,
   "id": "83cd5033",
   "metadata": {},
   "outputs": [],
   "source": [
    "data = data+tweets[:-1]"
   ]
  },
  {
   "cell_type": "code",
   "execution_count": 219,
   "id": "b0001e3a",
   "metadata": {},
   "outputs": [
    {
     "name": "stdout",
     "output_type": "stream",
     "text": [
      "7859\n"
     ]
    }
   ],
   "source": [
    "print(len(data))"
   ]
  },
  {
   "cell_type": "markdown",
   "id": "fc368ee8",
   "metadata": {},
   "source": [
    "updating the end parameter, to not get the tweets we already have"
   ]
  },
  {
   "cell_type": "code",
   "execution_count": 212,
   "id": "5f67d63e",
   "metadata": {},
   "outputs": [],
   "source": [
    "end_dt = tweets[-2]['created_at'][:-8]\n",
    "start_dt = '2019-01-01T00:00'"
   ]
  },
  {
   "cell_type": "markdown",
   "id": "a1460714",
   "metadata": {},
   "source": [
    "updating the query"
   ]
  },
  {
   "cell_type": "code",
   "execution_count": 213,
   "id": "2af1bccb",
   "metadata": {},
   "outputs": [
    {
     "name": "stdout",
     "output_type": "stream",
     "text": [
      "{\"query\": \"from:elonmusk\", \"max_results\": 500, \"start_time\": \"2019-01-01T00:00:00Z\", \"end_time\": \"2019-01-11T04:04:00Z\", \"tweet.fields\": \"id,created_at,text,public_metrics,author_id\"}\n"
     ]
    }
   ],
   "source": [
    "query = gen_request_parameters(\"from:elonmusk\",tweet_fields=\"id,created_at,text,public_metrics,author_id\",results_per_call=500,start_time=start_dt,end_time=end_dt)\n",
    "print(query)"
   ]
  },
  {
   "cell_type": "markdown",
   "id": "d8e281a0",
   "metadata": {},
   "source": [
    "Making the new API call"
   ]
  },
  {
   "cell_type": "code",
   "execution_count": 214,
   "id": "2d4d0153",
   "metadata": {},
   "outputs": [],
   "source": [
    "tweets = collect_results(query,max_tweets=500,result_stream_args=search_args)"
   ]
  },
  {
   "cell_type": "markdown",
   "id": "1f7d6cbd",
   "metadata": {},
   "source": [
    "### Correcting output data\n",
    "After running the above code over and over till I got all the data I wanted, it's time to put it in a dataframe and correct it a bit before export.\n",
    "First I'll make a copy of the data, so if I do anything stupid and I can recover the original data:"
   ]
  },
  {
   "cell_type": "code",
   "execution_count": 256,
   "id": "9e3dfb8f",
   "metadata": {},
   "outputs": [],
   "source": [
    "data_cp = data"
   ]
  },
  {
   "cell_type": "markdown",
   "id": "1e290abf",
   "metadata": {},
   "source": [
    "Next I'll correct to remove one \"meta tweet\" that managed to sneak into the data somehow, and also unpack the 'public_metrics', so they are directly accessible"
   ]
  },
  {
   "cell_type": "code",
   "execution_count": 257,
   "id": "5eb86567",
   "metadata": {},
   "outputs": [
    {
     "name": "stdout",
     "output_type": "stream",
     "text": [
      "7857\n",
      "[{'created_at': '2021-04-28T08:54:22.000Z', 'public_metrics': {'retweet_count': 202, 'reply_count': 200, 'like_count': 3447, 'quote_count': 16}, 'id': '1387329332541104131', 'text': '@RationalEtienne @Erdayastronaut @Twisi80 Starship is literally more pointy because of that movie haha', 'author_id': '44196397', 'retweet_count': 202, 'reply_count': 200, 'like_count': 3447, 'quote_count': 16}, {'created_at': '2021-04-28T08:51:43.000Z', 'public_metrics': {'retweet_count': 131, 'reply_count': 218, 'like_count': 2473, 'quote_count': 22}, 'id': '1387328662073188353', 'text': '@RiusJulien https://t.co/paTKsQjNp8', 'author_id': '44196397', 'retweet_count': 131, 'reply_count': 218, 'like_count': 2473, 'quote_count': 22}, {'created_at': '2021-04-28T08:43:37.000Z', 'public_metrics': {'retweet_count': 2781, 'reply_count': 5728, 'like_count': 38250, 'quote_count': 257}, 'id': '1387326627160408067', 'text': '♥️\\nhttps://t.co/juLuKlymEX', 'author_id': '44196397', 'retweet_count': 2781, 'reply_count': 5728, 'like_count': 38250, 'quote_count': 257}, {'created_at': '2021-04-28T07:33:33.000Z', 'public_metrics': {'retweet_count': 135, 'reply_count': 244, 'like_count': 2823, 'quote_count': 27}, 'id': '1387308991743672322', 'text': '@AstroJordy @wapodavenport 0% so far', 'author_id': '44196397', 'retweet_count': 135, 'reply_count': 244, 'like_count': 2823, 'quote_count': 27}, {'created_at': '2021-04-28T06:21:41.000Z', 'public_metrics': {'retweet_count': 239, 'reply_count': 263, 'like_count': 4783, 'quote_count': 25}, 'id': '1387290907108679680', 'text': '@muratpak 🔥', 'author_id': '44196397', 'retweet_count': 239, 'reply_count': 263, 'like_count': 4783, 'quote_count': 25}]\n",
      "7857\n",
      "[{'created_at': '2021-04-28T08:54:22.000Z', 'public_metrics': {'retweet_count': 202, 'reply_count': 200, 'like_count': 3447, 'quote_count': 16}, 'id': '1387329332541104131', 'text': '@RationalEtienne @Erdayastronaut @Twisi80 Starship is literally more pointy because of that movie haha', 'author_id': '44196397', 'retweet_count': 202, 'reply_count': 200, 'like_count': 3447, 'quote_count': 16}, {'created_at': '2021-04-28T08:51:43.000Z', 'public_metrics': {'retweet_count': 131, 'reply_count': 218, 'like_count': 2473, 'quote_count': 22}, 'id': '1387328662073188353', 'text': '@RiusJulien https://t.co/paTKsQjNp8', 'author_id': '44196397', 'retweet_count': 131, 'reply_count': 218, 'like_count': 2473, 'quote_count': 22}, {'created_at': '2021-04-28T08:43:37.000Z', 'public_metrics': {'retweet_count': 2781, 'reply_count': 5728, 'like_count': 38250, 'quote_count': 257}, 'id': '1387326627160408067', 'text': '♥️\\nhttps://t.co/juLuKlymEX', 'author_id': '44196397', 'retweet_count': 2781, 'reply_count': 5728, 'like_count': 38250, 'quote_count': 257}, {'created_at': '2021-04-28T07:33:33.000Z', 'public_metrics': {'retweet_count': 135, 'reply_count': 244, 'like_count': 2823, 'quote_count': 27}, 'id': '1387308991743672322', 'text': '@AstroJordy @wapodavenport 0% so far', 'author_id': '44196397', 'retweet_count': 135, 'reply_count': 244, 'like_count': 2823, 'quote_count': 27}, {'created_at': '2021-04-28T06:21:41.000Z', 'public_metrics': {'retweet_count': 239, 'reply_count': 263, 'like_count': 4783, 'quote_count': 25}, 'id': '1387290907108679680', 'text': '@muratpak 🔥', 'author_id': '44196397', 'retweet_count': 239, 'reply_count': 263, 'like_count': 4783, 'quote_count': 25}]\n"
     ]
    }
   ],
   "source": [
    "data_cp = [tweet for tweet in data_cp if 'public_metrics' in tweet]\n",
    "print(len(data_cp))\n",
    "print(data_cp[0:5])\n",
    "#data_cp = [tweet.update(tweet['public_metrics']) for tweet in data_cp]\n",
    "temp =[]\n",
    "for tweet in data_cp:\n",
    "    temp.append(tweet.update(tweet['public_metrics']))\n",
    "print(len(data_cp))\n",
    "print(data_cp[0:5])"
   ]
  },
  {
   "cell_type": "markdown",
   "id": "9fab63a7",
   "metadata": {},
   "source": [
    "And now I'll put the data into a pandas dataframe"
   ]
  },
  {
   "cell_type": "code",
   "execution_count": null,
   "id": "df415ae3",
   "metadata": {},
   "outputs": [],
   "source": [
    "df_data = pd.DataFrame(data_cp)"
   ]
  },
  {
   "cell_type": "code",
   "execution_count": 259,
   "id": "fb4b2dd4",
   "metadata": {},
   "outputs": [
    {
     "name": "stdout",
     "output_type": "stream",
     "text": [
      "[{'created_at': '2021-04-28T08:54:22.000Z', 'public_metrics': {'retweet_count': 202, 'reply_count': 200, 'like_count': 3447, 'quote_count': 16}, 'id': '1387329332541104131', 'text': '@RationalEtienne @Erdayastronaut @Twisi80 Starship is literally more pointy because of that movie haha', 'author_id': '44196397', 'retweet_count': 202, 'reply_count': 200, 'like_count': 3447, 'quote_count': 16}, {'created_at': '2021-04-28T08:51:43.000Z', 'public_metrics': {'retweet_count': 131, 'reply_count': 218, 'like_count': 2473, 'quote_count': 22}, 'id': '1387328662073188353', 'text': '@RiusJulien https://t.co/paTKsQjNp8', 'author_id': '44196397', 'retweet_count': 131, 'reply_count': 218, 'like_count': 2473, 'quote_count': 22}, {'created_at': '2021-04-28T08:43:37.000Z', 'public_metrics': {'retweet_count': 2781, 'reply_count': 5728, 'like_count': 38250, 'quote_count': 257}, 'id': '1387326627160408067', 'text': '♥️\\nhttps://t.co/juLuKlymEX', 'author_id': '44196397', 'retweet_count': 2781, 'reply_count': 5728, 'like_count': 38250, 'quote_count': 257}, {'created_at': '2021-04-28T07:33:33.000Z', 'public_metrics': {'retweet_count': 135, 'reply_count': 244, 'like_count': 2823, 'quote_count': 27}, 'id': '1387308991743672322', 'text': '@AstroJordy @wapodavenport 0% so far', 'author_id': '44196397', 'retweet_count': 135, 'reply_count': 244, 'like_count': 2823, 'quote_count': 27}, {'created_at': '2021-04-28T06:21:41.000Z', 'public_metrics': {'retweet_count': 239, 'reply_count': 263, 'like_count': 4783, 'quote_count': 25}, 'id': '1387290907108679680', 'text': '@muratpak 🔥', 'author_id': '44196397', 'retweet_count': 239, 'reply_count': 263, 'like_count': 4783, 'quote_count': 25}]\n"
     ]
    },
    {
     "data": {
      "text/html": [
       "<div>\n",
       "<style scoped>\n",
       "    .dataframe tbody tr th:only-of-type {\n",
       "        vertical-align: middle;\n",
       "    }\n",
       "\n",
       "    .dataframe tbody tr th {\n",
       "        vertical-align: top;\n",
       "    }\n",
       "\n",
       "    .dataframe thead th {\n",
       "        text-align: right;\n",
       "    }\n",
       "</style>\n",
       "<table border=\"1\" class=\"dataframe\">\n",
       "  <thead>\n",
       "    <tr style=\"text-align: right;\">\n",
       "      <th></th>\n",
       "      <th>created_at</th>\n",
       "      <th>public_metrics</th>\n",
       "      <th>id</th>\n",
       "      <th>text</th>\n",
       "      <th>author_id</th>\n",
       "      <th>retweet_count</th>\n",
       "      <th>reply_count</th>\n",
       "      <th>like_count</th>\n",
       "      <th>quote_count</th>\n",
       "    </tr>\n",
       "  </thead>\n",
       "  <tbody>\n",
       "    <tr>\n",
       "      <th>0</th>\n",
       "      <td>2021-04-28T08:54:22.000Z</td>\n",
       "      <td>{'retweet_count': 202, 'reply_count': 200, 'li...</td>\n",
       "      <td>1387329332541104131</td>\n",
       "      <td>@RationalEtienne @Erdayastronaut @Twisi80 Star...</td>\n",
       "      <td>44196397</td>\n",
       "      <td>202</td>\n",
       "      <td>200</td>\n",
       "      <td>3447</td>\n",
       "      <td>16</td>\n",
       "    </tr>\n",
       "    <tr>\n",
       "      <th>1</th>\n",
       "      <td>2021-04-28T08:51:43.000Z</td>\n",
       "      <td>{'retweet_count': 131, 'reply_count': 218, 'li...</td>\n",
       "      <td>1387328662073188353</td>\n",
       "      <td>@RiusJulien https://t.co/paTKsQjNp8</td>\n",
       "      <td>44196397</td>\n",
       "      <td>131</td>\n",
       "      <td>218</td>\n",
       "      <td>2473</td>\n",
       "      <td>22</td>\n",
       "    </tr>\n",
       "    <tr>\n",
       "      <th>2</th>\n",
       "      <td>2021-04-28T08:43:37.000Z</td>\n",
       "      <td>{'retweet_count': 2781, 'reply_count': 5728, '...</td>\n",
       "      <td>1387326627160408067</td>\n",
       "      <td>♥️\\nhttps://t.co/juLuKlymEX</td>\n",
       "      <td>44196397</td>\n",
       "      <td>2781</td>\n",
       "      <td>5728</td>\n",
       "      <td>38250</td>\n",
       "      <td>257</td>\n",
       "    </tr>\n",
       "    <tr>\n",
       "      <th>3</th>\n",
       "      <td>2021-04-28T07:33:33.000Z</td>\n",
       "      <td>{'retweet_count': 135, 'reply_count': 244, 'li...</td>\n",
       "      <td>1387308991743672322</td>\n",
       "      <td>@AstroJordy @wapodavenport 0% so far</td>\n",
       "      <td>44196397</td>\n",
       "      <td>135</td>\n",
       "      <td>244</td>\n",
       "      <td>2823</td>\n",
       "      <td>27</td>\n",
       "    </tr>\n",
       "    <tr>\n",
       "      <th>4</th>\n",
       "      <td>2021-04-28T06:21:41.000Z</td>\n",
       "      <td>{'retweet_count': 239, 'reply_count': 263, 'li...</td>\n",
       "      <td>1387290907108679680</td>\n",
       "      <td>@muratpak 🔥</td>\n",
       "      <td>44196397</td>\n",
       "      <td>239</td>\n",
       "      <td>263</td>\n",
       "      <td>4783</td>\n",
       "      <td>25</td>\n",
       "    </tr>\n",
       "  </tbody>\n",
       "</table>\n",
       "</div>"
      ],
      "text/plain": [
       "                 created_at  \\\n",
       "0  2021-04-28T08:54:22.000Z   \n",
       "1  2021-04-28T08:51:43.000Z   \n",
       "2  2021-04-28T08:43:37.000Z   \n",
       "3  2021-04-28T07:33:33.000Z   \n",
       "4  2021-04-28T06:21:41.000Z   \n",
       "\n",
       "                                      public_metrics                   id  \\\n",
       "0  {'retweet_count': 202, 'reply_count': 200, 'li...  1387329332541104131   \n",
       "1  {'retweet_count': 131, 'reply_count': 218, 'li...  1387328662073188353   \n",
       "2  {'retweet_count': 2781, 'reply_count': 5728, '...  1387326627160408067   \n",
       "3  {'retweet_count': 135, 'reply_count': 244, 'li...  1387308991743672322   \n",
       "4  {'retweet_count': 239, 'reply_count': 263, 'li...  1387290907108679680   \n",
       "\n",
       "                                                text author_id  retweet_count  \\\n",
       "0  @RationalEtienne @Erdayastronaut @Twisi80 Star...  44196397            202   \n",
       "1                @RiusJulien https://t.co/paTKsQjNp8  44196397            131   \n",
       "2                        ♥️\\nhttps://t.co/juLuKlymEX  44196397           2781   \n",
       "3               @AstroJordy @wapodavenport 0% so far  44196397            135   \n",
       "4                                        @muratpak 🔥  44196397            239   \n",
       "\n",
       "   reply_count  like_count  quote_count  \n",
       "0          200        3447           16  \n",
       "1          218        2473           22  \n",
       "2         5728       38250          257  \n",
       "3          244        2823           27  \n",
       "4          263        4783           25  "
      ]
     },
     "execution_count": 259,
     "metadata": {},
     "output_type": "execute_result"
    }
   ],
   "source": [
    "print(data_cp[0:5])\n",
    "df_data.head()"
   ]
  },
  {
   "cell_type": "markdown",
   "id": "7cb40b4d",
   "metadata": {},
   "source": [
    "### Saving the data\n",
    "as a serialized python object (a pickle), so I don't have to make API calls everytime I want to use the data"
   ]
  },
  {
   "cell_type": "code",
   "execution_count": 261,
   "id": "baa9cc18",
   "metadata": {},
   "outputs": [],
   "source": [
    "pickle.dump(df_data, open(\"../data/twitter_musk_full.pickle\",'wb'))"
   ]
  },
  {
   "cell_type": "markdown",
   "id": "f3a6df25",
   "metadata": {},
   "source": [
    "### Some basic exploration just for curiosity's sake\n",
    "I'll do real exploration of the data in a different notebook"
   ]
  },
  {
   "cell_type": "code",
   "execution_count": 262,
   "id": "9f0cf111",
   "metadata": {
    "scrolled": false
   },
   "outputs": [
    {
     "data": {
      "text/plain": [
       "[<matplotlib.lines.Line2D at 0x7f35dee27fd0>]"
      ]
     },
     "execution_count": 262,
     "metadata": {},
     "output_type": "execute_result"
    },
    {
     "data": {
      "image/png": "[encoded data removed]",
      "text/plain": [
       "<Figure size 432x288 with 1 Axes>"
      ]
     },
     "metadata": {
      "needs_background": "light"
     },
     "output_type": "display_data"
    }
   ],
   "source": [
    "plt.plot(df_data[\"created_at\"][:],df_data[\"like_count\"][:])"
   ]
  },
  {
   "cell_type": "markdown",
   "id": "8906ecff",
   "metadata": {},
   "source": [
    "wow there seems to be one tweet that got almost double of likes as the next most reacted to. Let's check it out"
   ]
  },
  {
   "cell_type": "code",
   "execution_count": 266,
   "id": "affc2c75",
   "metadata": {
    "scrolled": false
   },
   "outputs": [
    {
     "data": {
      "text/plain": [
       "created_at                                 2020-03-06T20:42:39.000Z\n",
       "public_metrics    {'retweet_count': 300566, 'reply_count': 43610...\n",
       "id                                              1236029449042198528\n",
       "text                                  The coronavirus panic is dumb\n",
       "author_id                                                  44196397\n",
       "retweet_count                                                300566\n",
       "reply_count                                                   43610\n",
       "like_count                                                  1590840\n",
       "quote_count                                                   41945\n",
       "Name: 4070, dtype: object"
      ]
     },
     "execution_count": 266,
     "metadata": {},
     "output_type": "execute_result"
    }
   ],
   "source": [
    "idx = df_data['like_count'].idxmax()\n",
    "df_data.iloc[idx]"
   ]
  },
  {
   "cell_type": "markdown",
   "id": "71823212",
   "metadata": {},
   "source": [
    "It's funny that it was this tweet... considering that a few weeks later everyone was hoarding toilet paper and all..."
   ]
  },
  {
   "cell_type": "markdown",
   "id": "73406703",
   "metadata": {},
   "source": [
    "# Making the retrival automated\n",
    "in the last section, I was recursevly doing the API calls manually to make sure I got at least Elon Musk's tweets, as with my first attempt (using the v1.1 API, and standard track, instead of v2 with academic research track), I had a bunch of problems. This time it worked well, so I will automated it, and maybe get the official tesla tweets (as Musks tweets reaction might not all influence the Tesla Stock. We shall see)."
   ]
  },
  {
   "cell_type": "code",
   "execution_count": 2,
   "id": "b037b9a3",
   "metadata": {},
   "outputs": [],
   "source": [
    "from searchtweets import gen_request_parameters, load_credentials, collect_results"
   ]
  },
  {
   "cell_type": "code",
   "execution_count": 7,
   "id": "73cc835f",
   "metadata": {},
   "outputs": [
    {
     "name": "stdout",
     "output_type": "stream",
     "text": [
      "{\"query\": \"from:Tesla\", \"max_results\": 500, \"start_time\": \"2019-01-01T00:00:00Z\", \"tweet.fields\": \"id,created_at,text,public_metrics,author_id\"}\n",
      "500\n"
     ]
    }
   ],
   "source": [
    "data = []\n",
    "start_dt = '2019-01-01T00:00'\n",
    "credential_file = \"../../.twitter_keys.yaml\"\n",
    "search_args = load_credentials(credential_file,yaml_key=\"search_tweets_v2\",env_overwrite=False)\n",
    "#q_param = \"from:elonmusk\"\n",
    "q_param = \"from:Tesla\"\n",
    "query = gen_request_parameters(q_param,tweet_fields=\"id,created_at,text,public_metrics,author_id\",results_per_call=500,start_time=start_dt)\n",
    "print(query)\n",
    "#making the first API call:\n",
    "tweets = collect_results(query,max_tweets=500,result_stream_args=search_args)\n",
    "data = data+tweets[:-1]\n",
    "print(len(data))"
   ]
  },
  {
   "cell_type": "code",
   "execution_count": 8,
   "id": "d06acb4f",
   "metadata": {},
   "outputs": [
    {
     "name": "stdout",
     "output_type": "stream",
     "text": [
      "{'id': '1387413976296919041', 'text': 'Your Tesla will continue to improve long after you bought it https://t.co/wepMWlVFeN', 'author_id': '13298072', 'public_metrics': {'retweet_count': 897, 'reply_count': 385, 'like_count': 11393, 'quote_count': 76}, 'created_at': '2021-04-28T14:30:43.000Z'}\n",
      "\n",
      "{'id': '1385178256509480967', 'text': 'RT @elonmusk: Tesla Solar + Powerwall battery enables consumers to be their own utility', 'author_id': '13298072', 'public_metrics': {'retweet_count': 11407, 'reply_count': 0, 'like_count': 0, 'quote_count': 0}, 'created_at': '2021-04-22T10:26:46.000Z'}\n",
      "\n",
      "{'id': '1383553917234016263', 'text': 'RT @elonmusk: Tesla with Autopilot engaged now approaching 10 times lower chance of accident than average vehicle', 'author_id': '13298072', 'public_metrics': {'retweet_count': 13223, 'reply_count': 0, 'like_count': 0, 'quote_count': 0}, 'created_at': '2021-04-17T22:52:13.000Z'}\n",
      "\n",
      "{'id': '1382935987681116160', 'text': 'Cybertruck at Giga Texas https://t.co/c1RuektPnN', 'author_id': '13298072', 'public_metrics': {'retweet_count': 14679, 'reply_count': 6029, 'like_count': 189609, 'quote_count': 2201}, 'created_at': '2021-04-16T05:56:47.000Z'}\n",
      "\n",
      "{'id': '1379210038141665281', 'text': 'Tesla seats factory https://t.co/X4PLPjuuj4', 'author_id': '13298072', 'public_metrics': {'retweet_count': 3620, 'reply_count': 2737, 'like_count': 90047, 'quote_count': 608}, 'created_at': '2021-04-05T23:11:12.000Z'}\n",
      "\n"
     ]
    }
   ],
   "source": [
    "for tweet in tweets[0:5]:\n",
    "    print(tweet, end='\\n\\n')"
   ]
  },
  {
   "cell_type": "code",
   "execution_count": 9,
   "id": "5b2ac248",
   "metadata": {},
   "outputs": [
    {
     "name": "stdout",
     "output_type": "stream",
     "text": [
      "810\n"
     ]
    }
   ],
   "source": [
    "while len(tweets) > 499:\n",
    "    end_dt = tweets[-2]['created_at'][:-8]\n",
    "    start_dt = '2019-01-01T00:00'\n",
    "    query = gen_request_parameters(q_param,tweet_fields=\"id,created_at,text,public_metrics,author_id\",results_per_call=500,start_time=start_dt,end_time=end_dt)\n",
    "    tweets = collect_results(query,max_tweets=500,result_stream_args=search_args)\n",
    "    data = data+tweets[:-1]\n",
    "    print(len(data))"
   ]
  },
  {
   "cell_type": "code",
   "execution_count": 10,
   "id": "68d8f4d7",
   "metadata": {},
   "outputs": [
    {
     "name": "stdout",
     "output_type": "stream",
     "text": [
      "{'public_metrics': {'retweet_count': 428, 'reply_count': 0, 'like_count': 0, 'quote_count': 0}, 'id': '1080180385646952448', 'author_id': '13298072', 'created_at': '2019-01-01T19:14:07.000Z', 'text': 'RT @itskrtk: Such a wonderful drive on New Year’s Eve in our #model3. Thank you @Tesla and @elonmusk for not just making an amazing car, bu…'}\n"
     ]
    }
   ],
   "source": [
    "print(tweets[-2])"
   ]
  },
  {
   "cell_type": "markdown",
   "id": "9159506f",
   "metadata": {},
   "source": [
    "wow the official Tesla twitter account tweets a lot less than Elon"
   ]
  },
  {
   "cell_type": "code",
   "execution_count": 13,
   "id": "70762610",
   "metadata": {},
   "outputs": [],
   "source": [
    "df_data = pd.DataFrame(data)"
   ]
  },
  {
   "cell_type": "code",
   "execution_count": 18,
   "id": "670c5603",
   "metadata": {},
   "outputs": [
    {
     "data": {
      "text/html": [
       "<div>\n",
       "<style scoped>\n",
       "    .dataframe tbody tr th:only-of-type {\n",
       "        vertical-align: middle;\n",
       "    }\n",
       "\n",
       "    .dataframe tbody tr th {\n",
       "        vertical-align: top;\n",
       "    }\n",
       "\n",
       "    .dataframe thead th {\n",
       "        text-align: right;\n",
       "    }\n",
       "</style>\n",
       "<table border=\"1\" class=\"dataframe\">\n",
       "  <thead>\n",
       "    <tr style=\"text-align: right;\">\n",
       "      <th></th>\n",
       "      <th>id</th>\n",
       "      <th>text</th>\n",
       "      <th>author_id</th>\n",
       "      <th>public_metrics</th>\n",
       "      <th>created_at</th>\n",
       "      <th>retweet_count</th>\n",
       "      <th>reply_count</th>\n",
       "      <th>like_count</th>\n",
       "      <th>quote_count</th>\n",
       "    </tr>\n",
       "  </thead>\n",
       "  <tbody>\n",
       "    <tr>\n",
       "      <th>805</th>\n",
       "      <td>1082367348625928192</td>\n",
       "      <td>Tesla Gigafactory 3 groundbreaking in Shanghai...</td>\n",
       "      <td>13298072</td>\n",
       "      <td>{'retweet_count': 661, 'reply_count': 126, 'li...</td>\n",
       "      <td>2019-01-07T20:04:19.000Z</td>\n",
       "      <td>661</td>\n",
       "      <td>126</td>\n",
       "      <td>5662</td>\n",
       "      <td>62</td>\n",
       "    </tr>\n",
       "    <tr>\n",
       "      <th>806</th>\n",
       "      <td>1081322680857518080</td>\n",
       "      <td>“I was absolutely blown away” @Roadshow visits...</td>\n",
       "      <td>13298072</td>\n",
       "      <td>{'retweet_count': 1087, 'reply_count': 137, 'l...</td>\n",
       "      <td>2019-01-04T22:53:11.000Z</td>\n",
       "      <td>1087</td>\n",
       "      <td>137</td>\n",
       "      <td>8264</td>\n",
       "      <td>63</td>\n",
       "    </tr>\n",
       "    <tr>\n",
       "      <th>807</th>\n",
       "      <td>1081124816201998336</td>\n",
       "      <td>@adamomras @elonmusk Now open to: Austria, Bel...</td>\n",
       "      <td>13298072</td>\n",
       "      <td>{'retweet_count': 34, 'reply_count': 12, 'like...</td>\n",
       "      <td>2019-01-04T09:46:57.000Z</td>\n",
       "      <td>34</td>\n",
       "      <td>12</td>\n",
       "      <td>279</td>\n",
       "      <td>2</td>\n",
       "    </tr>\n",
       "    <tr>\n",
       "      <th>808</th>\n",
       "      <td>1081117088662450177</td>\n",
       "      <td>Model 3 configurator is now open to left-hand ...</td>\n",
       "      <td>13298072</td>\n",
       "      <td>{'retweet_count': 1681, 'reply_count': 519, 'l...</td>\n",
       "      <td>2019-01-04T09:16:14.000Z</td>\n",
       "      <td>1681</td>\n",
       "      <td>519</td>\n",
       "      <td>15214</td>\n",
       "      <td>229</td>\n",
       "    </tr>\n",
       "    <tr>\n",
       "      <th>809</th>\n",
       "      <td>1080180385646952448</td>\n",
       "      <td>RT @itskrtk: Such a wonderful drive on New Yea...</td>\n",
       "      <td>13298072</td>\n",
       "      <td>{'retweet_count': 428, 'reply_count': 0, 'like...</td>\n",
       "      <td>2019-01-01T19:14:07.000Z</td>\n",
       "      <td>428</td>\n",
       "      <td>0</td>\n",
       "      <td>0</td>\n",
       "      <td>0</td>\n",
       "    </tr>\n",
       "  </tbody>\n",
       "</table>\n",
       "</div>"
      ],
      "text/plain": [
       "                      id                                               text  \\\n",
       "805  1082367348625928192  Tesla Gigafactory 3 groundbreaking in Shanghai...   \n",
       "806  1081322680857518080  “I was absolutely blown away” @Roadshow visits...   \n",
       "807  1081124816201998336  @adamomras @elonmusk Now open to: Austria, Bel...   \n",
       "808  1081117088662450177  Model 3 configurator is now open to left-hand ...   \n",
       "809  1080180385646952448  RT @itskrtk: Such a wonderful drive on New Yea...   \n",
       "\n",
       "    author_id                                     public_metrics  \\\n",
       "805  13298072  {'retweet_count': 661, 'reply_count': 126, 'li...   \n",
       "806  13298072  {'retweet_count': 1087, 'reply_count': 137, 'l...   \n",
       "807  13298072  {'retweet_count': 34, 'reply_count': 12, 'like...   \n",
       "808  13298072  {'retweet_count': 1681, 'reply_count': 519, 'l...   \n",
       "809  13298072  {'retweet_count': 428, 'reply_count': 0, 'like...   \n",
       "\n",
       "                   created_at  retweet_count  reply_count  like_count  \\\n",
       "805  2019-01-07T20:04:19.000Z            661          126        5662   \n",
       "806  2019-01-04T22:53:11.000Z           1087          137        8264   \n",
       "807  2019-01-04T09:46:57.000Z             34           12         279   \n",
       "808  2019-01-04T09:16:14.000Z           1681          519       15214   \n",
       "809  2019-01-01T19:14:07.000Z            428            0           0   \n",
       "\n",
       "     quote_count  \n",
       "805           62  \n",
       "806           63  \n",
       "807            2  \n",
       "808          229  \n",
       "809            0  "
      ]
     },
     "execution_count": 18,
     "metadata": {},
     "output_type": "execute_result"
    }
   ],
   "source": [
    "#print(df_data.head())\n",
    "\n",
    "#data_cp = [tweet for tweet in data_cp if 'public_metrics' in tweet]\n",
    "#print(len(data_cp))\n",
    "#print(data_cp[0:5])\n",
    "#data_cp = [tweet.update(tweet['public_metrics']) for tweet in data_cp]\n",
    "temp =[]\n",
    "for tweet in data:\n",
    "    temp.append(tweet.update(tweet['public_metrics']))\n",
    "#print(len(data))\n",
    "#print(data[0:5])\n",
    "\n",
    "df_data = pd.DataFrame(data)\n",
    "df_data.tail()"
   ]
  },
  {
   "cell_type": "code",
   "execution_count": 21,
   "id": "5292aa15",
   "metadata": {},
   "outputs": [
    {
     "data": {
      "text/plain": [
       "[<matplotlib.lines.Line2D at 0x7ff1858387c0>]"
      ]
     },
     "execution_count": 21,
     "metadata": {},
     "output_type": "execute_result"
    },
    {
     "data": {
      "image/png": "[encoded data removed]",
      "text/plain": [
       "<Figure size 432x288 with 1 Axes>"
      ]
     },
     "metadata": {
      "needs_background": "light"
     },
     "output_type": "display_data"
    }
   ],
   "source": [
    "plt.plot(df_data[\"created_at\"][:],df_data[\"like_count\"][:])\n",
    "plt.plot(df_data[\"created_at\"][:],df_data[\"retweet_count\"][:])"
   ]
  },
  {
   "cell_type": "code",
   "execution_count": 22,
   "id": "2545a0f7",
   "metadata": {},
   "outputs": [
    {
     "data": {
      "text/plain": [
       "id                                              1382935987681116160\n",
       "text               Cybertruck at Giga Texas https://t.co/c1RuektPnN\n",
       "author_id                                                  13298072\n",
       "public_metrics    {'retweet_count': 14679, 'reply_count': 6029, ...\n",
       "created_at                                 2021-04-16T05:56:47.000Z\n",
       "retweet_count                                                 14679\n",
       "reply_count                                                    6029\n",
       "like_count                                                   189609\n",
       "quote_count                                                    2201\n",
       "Name: 3, dtype: object"
      ]
     },
     "execution_count": 22,
     "metadata": {},
     "output_type": "execute_result"
    }
   ],
   "source": [
    "idx = df_data['like_count'].idxmax()\n",
    "df_data.iloc[idx]"
   ]
  },
  {
   "cell_type": "code",
   "execution_count": 23,
   "id": "b94bde9a",
   "metadata": {},
   "outputs": [],
   "source": [
    "pickle.dump(df_data, open(\"../data/twitter_tesla_full.pickle\",'wb'))"
   ]
  }
 ],
 "metadata": {
  "kernelspec": {
   "display_name": "Python 3",
   "language": "python",
   "name": "python3"
  },
  "language_info": {
   "codemirror_mode": {
    "name": "ipython",
    "version": 3
   },
   "file_extension": ".py",
   "mimetype": "text/x-python",
   "name": "python",
   "nbconvert_exporter": "python",
   "pygments_lexer": "ipython3",
   "version": "3.9.0"
  }
 },
 "nbformat": 4,
 "nbformat_minor": 5
}
