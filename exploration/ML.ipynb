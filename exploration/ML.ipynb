{
 "cells": [
  {
   "cell_type": "code",
   "execution_count": 2,
   "id": "coral-opposition",
   "metadata": {},
   "outputs": [
    {
     "name": "stderr",
     "output_type": "stream",
     "text": [
      "/Users/Sam/.pyenv/versions/3.9.0/lib/python3.9/site-packages/pandas/compat/__init__.py:97: UserWarning: Could not import the lzma module. Your installed Python is incomplete. Attempting to use lzma compression will result in a RuntimeError.\n",
      "  warnings.warn(msg)\n"
     ]
    }
   ],
   "source": [
    "import matplotlib.pyplot as plt\n",
    "import pickle\n",
    "import datetime as dt\n",
    "import numpy as np\n",
    "import pandas as pd"
   ]
  },
  {
   "cell_type": "code",
   "execution_count": 2,
   "id": "rising-boston",
   "metadata": {},
   "outputs": [],
   "source": [
    "from sklearn.linear_model import LinearRegression"
   ]
  },
  {
   "cell_type": "code",
   "execution_count": 5,
   "id": "mounted-creation",
   "metadata": {},
   "outputs": [
    {
     "name": "stdout",
     "output_type": "stream",
     "text": [
      "                 Open       High        Low      Close   Volume  Dividends  \\\n",
      "Date                                                                         \n",
      "2019-02-11  62.349998  63.700001  62.135998  63.167999  3140581          0   \n",
      "2019-02-11  63.153004  63.338001  62.640003  62.902000   876534          0   \n",
      "2019-02-11  62.935997  63.296001  62.730000  63.250000   801005          0   \n",
      "2019-02-11  63.230000  63.412640  62.937798  62.956001   563722          0   \n",
      "2019-02-11  62.996002  63.035999  62.690002  62.840981   513318          0   \n",
      "\n",
      "            Stock Splits  \n",
      "Date                      \n",
      "2019-02-11           0.0  \n",
      "2019-02-11           0.0  \n",
      "2019-02-11           0.0  \n",
      "2019-02-11           0.0  \n",
      "2019-02-11           0.0  \n",
      "\n",
      " Dataframe size =  (3518, 7)\n",
      "\n",
      " first index =  2019-02-11 00:00:00 ; last index =  2021-02-10 00:00:00 ; second index =  2019-02-11 00:00:00\n"
     ]
    }
   ],
   "source": [
    "#load the data\n",
    "tsla = pickle.load(open(\"data_h.pickle\",\"rb\"))\n",
    "print(tsla.head())\n",
    "print(\"\\n Dataframe size = \",tsla.shape)\n",
    "print(\"\\n first index = \",tsla.index[0], \"; last index = \", tsla.index[-1], \"; second index = \",tsla.index[1])\n",
    "tsla = tsla.drop(['High','Low','Close','Volume','Dividends','Stock Splits'],axis=1) #just gonna look at Open prices for now"
   ]
  },
  {
   "cell_type": "code",
   "execution_count": 6,
   "id": "burning-height",
   "metadata": {},
   "outputs": [],
   "source": [
    "tsla.columns=['t']"
   ]
  },
  {
   "cell_type": "code",
   "execution_count": 25,
   "id": "historic-roommate",
   "metadata": {},
   "outputs": [],
   "source": [
    "tsla['t-1'] = tsla['t'].shift(1)\n",
    "tsla['t-2'] = tsla['t'].shift(2)\n",
    "tsla['t-3'] = tsla['t'].shift(3)\n",
    "tsla['t-4'] = tsla['t'].shift(4)\n",
    "tsla['t-5'] = tsla['t'].shift(5)\n",
    "tsla['t-6'] = tsla['t'].shift(6)\n",
    "tsla['t-7'] = tsla['t'].shift(7)\n",
    "tsla['t+1'] = tsla['t'].shift(-1)\n",
    "tsla['t+2'] = tsla['t'].shift(-2)\n",
    "tsla['t+3'] = tsla['t'].shift(-3)\n",
    "tsla['t+4'] = tsla['t'].shift(-4)\n",
    "tsla['t+5'] = tsla['t'].shift(-5)\n",
    "tsla['t+6'] = tsla['t'].shift(-6)"
   ]
  },
  {
   "cell_type": "code",
   "execution_count": 24,
   "id": "requested-parameter",
   "metadata": {},
   "outputs": [
    {
     "data": {
      "text/html": [
       "<div>\n",
       "<style scoped>\n",
       "    .dataframe tbody tr th:only-of-type {\n",
       "        vertical-align: middle;\n",
       "    }\n",
       "\n",
       "    .dataframe tbody tr th {\n",
       "        vertical-align: top;\n",
       "    }\n",
       "\n",
       "    .dataframe thead th {\n",
       "        text-align: right;\n",
       "    }\n",
       "</style>\n",
       "<table border=\"1\" class=\"dataframe\">\n",
       "  <thead>\n",
       "    <tr style=\"text-align: right;\">\n",
       "      <th></th>\n",
       "      <th>t</th>\n",
       "      <th>t-1</th>\n",
       "      <th>t-2</th>\n",
       "      <th>t-3</th>\n",
       "      <th>t-4</th>\n",
       "      <th>t-5</th>\n",
       "      <th>t+1</th>\n",
       "      <th>t+2</th>\n",
       "      <th>t+3</th>\n",
       "      <th>t+4</th>\n",
       "    </tr>\n",
       "    <tr>\n",
       "      <th>Date</th>\n",
       "      <th></th>\n",
       "      <th></th>\n",
       "      <th></th>\n",
       "      <th></th>\n",
       "      <th></th>\n",
       "      <th></th>\n",
       "      <th></th>\n",
       "      <th></th>\n",
       "      <th></th>\n",
       "      <th></th>\n",
       "    </tr>\n",
       "  </thead>\n",
       "  <tbody>\n",
       "    <tr>\n",
       "      <th>2019-02-11</th>\n",
       "      <td>62.349998</td>\n",
       "      <td>NaN</td>\n",
       "      <td>NaN</td>\n",
       "      <td>NaN</td>\n",
       "      <td>NaN</td>\n",
       "      <td>NaN</td>\n",
       "      <td>63.153004</td>\n",
       "      <td>62.935997</td>\n",
       "      <td>63.230000</td>\n",
       "      <td>62.996002</td>\n",
       "    </tr>\n",
       "    <tr>\n",
       "      <th>2019-02-11</th>\n",
       "      <td>63.153004</td>\n",
       "      <td>62.349998</td>\n",
       "      <td>NaN</td>\n",
       "      <td>NaN</td>\n",
       "      <td>NaN</td>\n",
       "      <td>NaN</td>\n",
       "      <td>62.935997</td>\n",
       "      <td>63.230000</td>\n",
       "      <td>62.996002</td>\n",
       "      <td>62.826836</td>\n",
       "    </tr>\n",
       "    <tr>\n",
       "      <th>2019-02-11</th>\n",
       "      <td>62.935997</td>\n",
       "      <td>63.153004</td>\n",
       "      <td>62.349998</td>\n",
       "      <td>NaN</td>\n",
       "      <td>NaN</td>\n",
       "      <td>NaN</td>\n",
       "      <td>63.230000</td>\n",
       "      <td>62.996002</td>\n",
       "      <td>62.826836</td>\n",
       "      <td>62.770000</td>\n",
       "    </tr>\n",
       "    <tr>\n",
       "      <th>2019-02-11</th>\n",
       "      <td>63.230000</td>\n",
       "      <td>62.935997</td>\n",
       "      <td>63.153004</td>\n",
       "      <td>62.349998</td>\n",
       "      <td>NaN</td>\n",
       "      <td>NaN</td>\n",
       "      <td>62.996002</td>\n",
       "      <td>62.826836</td>\n",
       "      <td>62.770000</td>\n",
       "      <td>63.230000</td>\n",
       "    </tr>\n",
       "    <tr>\n",
       "      <th>2019-02-11</th>\n",
       "      <td>62.996002</td>\n",
       "      <td>63.230000</td>\n",
       "      <td>62.935997</td>\n",
       "      <td>63.153004</td>\n",
       "      <td>62.349998</td>\n",
       "      <td>NaN</td>\n",
       "      <td>62.826836</td>\n",
       "      <td>62.770000</td>\n",
       "      <td>63.230000</td>\n",
       "      <td>62.967999</td>\n",
       "    </tr>\n",
       "  </tbody>\n",
       "</table>\n",
       "</div>"
      ],
      "text/plain": [
       "                    t        t-1        t-2        t-3        t-4  t-5  \\\n",
       "Date                                                                     \n",
       "2019-02-11  62.349998        NaN        NaN        NaN        NaN  NaN   \n",
       "2019-02-11  63.153004  62.349998        NaN        NaN        NaN  NaN   \n",
       "2019-02-11  62.935997  63.153004  62.349998        NaN        NaN  NaN   \n",
       "2019-02-11  63.230000  62.935997  63.153004  62.349998        NaN  NaN   \n",
       "2019-02-11  62.996002  63.230000  62.935997  63.153004  62.349998  NaN   \n",
       "\n",
       "                  t+1        t+2        t+3        t+4  \n",
       "Date                                                    \n",
       "2019-02-11  63.153004  62.935997  63.230000  62.996002  \n",
       "2019-02-11  62.935997  63.230000  62.996002  62.826836  \n",
       "2019-02-11  63.230000  62.996002  62.826836  62.770000  \n",
       "2019-02-11  62.996002  62.826836  62.770000  63.230000  \n",
       "2019-02-11  62.826836  62.770000  63.230000  62.967999  "
      ]
     },
     "execution_count": 24,
     "metadata": {},
     "output_type": "execute_result"
    }
   ],
   "source": [
    "tsla.head()"
   ]
  },
  {
   "cell_type": "code",
   "execution_count": 26,
   "id": "average-asthma",
   "metadata": {},
   "outputs": [
    {
     "name": "stdout",
     "output_type": "stream",
     "text": [
      "intercept :  [0.04330794 0.08155807 0.13251663 0.18690737 0.24001804 0.29529486\n",
      " 0.35567669] coefs :  [[ 9.50529727e-01  5.15666790e-02  3.71350495e-02 -5.32292097e-02\n",
      "   1.03871684e-02  1.05325454e-01 -1.00944427e-01]\n",
      " [ 9.54609314e-01  8.59163291e-02 -1.50633480e-02 -4.22470240e-02\n",
      "   1.12488822e-01 -4.99218825e-02 -4.42114030e-02]\n",
      " [ 9.93287493e-01  3.44376347e-02 -4.54696510e-03  6.16169970e-02\n",
      "  -4.41941321e-02 -4.48464871e-03 -3.38289439e-02]\n",
      " [ 9.78557097e-01  4.69972239e-02  1.01297011e-01 -9.71988648e-02\n",
      "   7.09729341e-04 -3.87260013e-03 -2.34572509e-02]\n",
      " [ 9.76992997e-01  1.52016414e-01 -5.73470325e-02 -5.20423830e-02\n",
      "   5.25900555e-04 -7.01075888e-03 -9.35175766e-03]\n",
      " [ 1.08055834e+00 -6.64283221e-03 -1.20863331e-02 -5.19925375e-02\n",
      "  -3.12508566e-03  3.74622102e-04 -2.56233400e-03]\n",
      " [ 1.02036833e+00  4.39880701e-02 -8.23396593e-03 -6.10380502e-02\n",
      "   5.25665611e-03  1.75315476e-02 -1.25334091e-02]]\n"
     ]
    }
   ],
   "source": [
    "y = tsla.dropna()[['t','t+1','t+2','t+3','t+4','t+5','t+6']].to_numpy() #.reshape(-1,1)\n",
    "x = tsla.dropna()[['t-1','t-2','t-3','t-4','t-5','t-6','t-7']].to_numpy() #.reshape(-1,1)\n",
    "model = LinearRegression().fit(x, y)\n",
    "print('intercept : ', model.intercept_ , 'coefs : ', model.coef_)"
   ]
  },
  {
   "cell_type": "code",
   "execution_count": 22,
   "id": "eight-charger",
   "metadata": {},
   "outputs": [
    {
     "data": {
      "text/plain": [
       "[<matplotlib.lines.Line2D at 0x124868370>]"
      ]
     },
     "execution_count": 22,
     "metadata": {},
     "output_type": "execute_result"
    },
    {
     "data": {
      "image/png": "[encoded data removed]",
      "text/plain": [
       "<Figure size 432x288 with 1 Axes>"
      ]
     },
     "metadata": {
      "needs_background": "light"
     },
     "output_type": "display_data"
    }
   ],
   "source": [
    "plt.plot(tsla['t-4'],tsla['t'],'x')"
   ]
  },
  {
   "cell_type": "code",
   "execution_count": 67,
   "id": "forbidden-yield",
   "metadata": {},
   "outputs": [],
   "source": [
    "x_new = tsla[['t-7','t-6','t-5','t-4','t-3','t-2','t-1']].iloc[-1].to_numpy()"
   ]
  },
  {
   "cell_type": "code",
   "execution_count": 68,
   "id": "fossil-ending",
   "metadata": {},
   "outputs": [
    {
     "name": "stdout",
     "output_type": "stream",
     "text": [
      "[844.32000732 844.60998535 843.         817.91998291 813.63000488\n",
      " 813.90002441 810.20001221]\n"
     ]
    }
   ],
   "source": [
    "#print(tsla.iloc[-7:-1])\n",
    "print(x_new)"
   ]
  },
  {
   "cell_type": "code",
   "execution_count": 69,
   "id": "peaceful-title",
   "metadata": {},
   "outputs": [],
   "source": [
    "y_new=model.predict(x_new.reshape(1,-1))"
   ]
  },
  {
   "cell_type": "code",
   "execution_count": 70,
   "id": "understanding-detail",
   "metadata": {},
   "outputs": [
    {
     "name": "stdout",
     "output_type": "stream",
     "text": [
      "[846.30644394 846.46278353 847.42013338 850.40953657 849.76431766\n",
      " 849.99343909 850.55169301]\n"
     ]
    }
   ],
   "source": [
    "print(y_new[0])"
   ]
  },
  {
   "cell_type": "code",
   "execution_count": 72,
   "id": "israeli-launch",
   "metadata": {},
   "outputs": [
    {
     "data": {
      "image/png": "[encoded data removed]",
      "text/plain": [
       "<Figure size 432x288 with 1 Axes>"
      ]
     },
     "metadata": {
      "needs_background": "light"
     },
     "output_type": "display_data"
    }
   ],
   "source": [
    "start = -500\n",
    "end = -7\n",
    "length = -start+end\n",
    "plt.plot(range(length),tsla['t'].iloc[start:end].to_numpy())\n",
    "plt.plot(range(length,length+7),y_new[0])\n",
    "plt.show()"
   ]
  },
  {
   "cell_type": "code",
   "execution_count": 86,
   "id": "noted-alloy",
   "metadata": {},
   "outputs": [
    {
     "data": {
      "text/html": [
       "<div>\n",
       "<style scoped>\n",
       "    .dataframe tbody tr th:only-of-type {\n",
       "        vertical-align: middle;\n",
       "    }\n",
       "\n",
       "    .dataframe tbody tr th {\n",
       "        vertical-align: top;\n",
       "    }\n",
       "\n",
       "    .dataframe thead th {\n",
       "        text-align: right;\n",
       "    }\n",
       "</style>\n",
       "<table border=\"1\" class=\"dataframe\">\n",
       "  <thead>\n",
       "    <tr style=\"text-align: right;\">\n",
       "      <th></th>\n",
       "      <th>t</th>\n",
       "    </tr>\n",
       "    <tr>\n",
       "      <th>Date</th>\n",
       "      <th></th>\n",
       "    </tr>\n",
       "  </thead>\n",
       "  <tbody>\n",
       "    <tr>\n",
       "      <th>2019-02-11</th>\n",
       "      <td>62.349998</td>\n",
       "    </tr>\n",
       "    <tr>\n",
       "      <th>2019-02-11</th>\n",
       "      <td>63.153004</td>\n",
       "    </tr>\n",
       "    <tr>\n",
       "      <th>2019-02-11</th>\n",
       "      <td>62.935997</td>\n",
       "    </tr>\n",
       "    <tr>\n",
       "      <th>2019-02-11</th>\n",
       "      <td>63.230000</td>\n",
       "    </tr>\n",
       "    <tr>\n",
       "      <th>2019-02-11</th>\n",
       "      <td>62.996002</td>\n",
       "    </tr>\n",
       "  </tbody>\n",
       "</table>\n",
       "</div>"
      ],
      "text/plain": [
       "                    t\n",
       "Date                 \n",
       "2019-02-11  62.349998\n",
       "2019-02-11  63.153004\n",
       "2019-02-11  62.935997\n",
       "2019-02-11  63.230000\n",
       "2019-02-11  62.996002"
      ]
     },
     "execution_count": 86,
     "metadata": {},
     "output_type": "execute_result"
    }
   ],
   "source": [
    "#tsla = tsla['t']\n",
    "tsla.columns=['t']\n",
    "tsla.head()"
   ]
  },
  {
   "cell_type": "code",
   "execution_count": 87,
   "id": "honey-gabriel",
   "metadata": {},
   "outputs": [
    {
     "data": {
      "text/plain": [
       "Date\n",
       "2019-02-11     62.349998\n",
       "2019-02-11     63.153004\n",
       "2019-02-11     62.935997\n",
       "2019-02-11     63.230000\n",
       "2019-02-11     62.996002\n",
       "                 ...    \n",
       "2021-02-10    817.919983\n",
       "2021-02-10    813.630005\n",
       "2021-02-10    813.900024\n",
       "2021-02-10    810.200012\n",
       "2021-02-10    809.669983\n",
       "Name: t, Length: 3518, dtype: float64"
      ]
     },
     "execution_count": 87,
     "metadata": {},
     "output_type": "execute_result"
    }
   ],
   "source": [
    "tsla['t']"
   ]
  },
  {
   "cell_type": "code",
   "execution_count": 7,
   "id": "mysterious-preference",
   "metadata": {},
   "outputs": [
    {
     "name": "stdout",
     "output_type": "stream",
     "text": [
      "t-1\n",
      "t-2\n",
      "t-3\n",
      "t-4\n",
      "t-5\n",
      "t-6\n",
      "t-7\n",
      "t-8\n",
      "t-9\n",
      "t-10\n",
      "t-11\n",
      "t-12\n",
      "t-13\n",
      "t-14\n",
      "t-15\n",
      "t-16\n",
      "t-17\n",
      "t-18\n",
      "t-19\n",
      "t-20\n",
      "t-21\n",
      "t-22\n",
      "t-23\n",
      "t-24\n",
      "t-25\n",
      "t-26\n",
      "t-27\n",
      "t-28\n",
      "t-29\n",
      "t-30\n",
      "t-31\n",
      "t-32\n",
      "t-33\n",
      "t-34\n",
      "t-35\n",
      "t+1\n",
      "t+2\n",
      "t+3\n",
      "t+4\n",
      "t+5\n",
      "t+6\n",
      "t+7\n",
      "t+8\n",
      "t+9\n",
      "t+10\n",
      "t+11\n",
      "t+12\n",
      "t+13\n",
      "t+14\n",
      "t+15\n",
      "t+16\n",
      "t+17\n",
      "t+18\n",
      "t+19\n",
      "t+20\n",
      "t+21\n",
      "t+22\n",
      "t+23\n",
      "t+24\n",
      "t+25\n",
      "t+26\n",
      "t+27\n",
      "t+28\n",
      "t+29\n",
      "t+30\n",
      "t+31\n",
      "t+32\n",
      "t+33\n",
      "t+34\n"
     ]
    }
   ],
   "source": [
    "for i in range(1,36):\n",
    "    name = 't-'+str(i)\n",
    "    print(name)\n",
    "    tsla[name] = tsla['t'].shift(i)\n",
    "for i in range(1,35):\n",
    "    name = 't+'+str(i)\n",
    "    print(name)\n",
    "    tsla[name] = tsla['t'].shift(-i)"
   ]
  },
  {
   "cell_type": "code",
   "execution_count": 5,
   "id": "royal-winning",
   "metadata": {},
   "outputs": [],
   "source": [
    "import statsmodels.api as sm"
   ]
  },
  {
   "cell_type": "code",
   "execution_count": 8,
   "id": "invalid-camera",
   "metadata": {},
   "outputs": [
    {
     "name": "stdout",
     "output_type": "stream",
     "text": [
      "y_cols =  ['t', 't+1', 't+2', 't+3', 't+4', 't+5', 't+6', 't+7', 't+8', 't+9', 't+10', 't+11', 't+12', 't+13', 't+14', 't+15', 't+16', 't+17', 't+18', 't+19', 't+20', 't+21', 't+22', 't+23', 't+24', 't+25', 't+26', 't+27', 't+28', 't+29', 't+30', 't+31', 't+32', 't+33', 't+34']\n",
      "x_cols =  ['t-35', 't-34', 't-33', 't-32', 't-31', 't-30', 't-29', 't-28', 't-27', 't-26', 't-25', 't-24', 't-23', 't-22', 't-21', 't-20', 't-19', 't-18', 't-17', 't-16', 't-15', 't-14', 't-13', 't-12', 't-11', 't-10', 't-9', 't-8', 't-7', 't-6', 't-5', 't-4', 't-3', 't-2', 't-1']\n"
     ]
    },
    {
     "ename": "AttributeError",
     "evalue": "'LinearRegression' object has no attribute 'summary'",
     "output_type": "error",
     "traceback": [
      "\u001b[0;31m---------------------------------------------------------------------------\u001b[0m",
      "\u001b[0;31mAttributeError\u001b[0m                            Traceback (most recent call last)",
      "\u001b[0;32m<ipython-input-8-9f7e6a3b9334>\u001b[0m in \u001b[0;36m<module>\u001b[0;34m\u001b[0m\n\u001b[1;32m      7\u001b[0m \u001b[0mx\u001b[0m \u001b[0;34m=\u001b[0m \u001b[0mtsla\u001b[0m\u001b[0;34m.\u001b[0m\u001b[0mdropna\u001b[0m\u001b[0;34m(\u001b[0m\u001b[0;34m)\u001b[0m\u001b[0;34m[\u001b[0m\u001b[0mx_cols\u001b[0m\u001b[0;34m]\u001b[0m\u001b[0;34m.\u001b[0m\u001b[0mto_numpy\u001b[0m\u001b[0;34m(\u001b[0m\u001b[0;34m)\u001b[0m \u001b[0;31m#.reshape(-1,1)\u001b[0m\u001b[0;34m\u001b[0m\u001b[0;34m\u001b[0m\u001b[0m\n\u001b[1;32m      8\u001b[0m \u001b[0mmodel\u001b[0m \u001b[0;34m=\u001b[0m \u001b[0mLinearRegression\u001b[0m\u001b[0;34m(\u001b[0m\u001b[0;34m)\u001b[0m\u001b[0;34m.\u001b[0m\u001b[0mfit\u001b[0m\u001b[0;34m(\u001b[0m\u001b[0mx\u001b[0m\u001b[0;34m,\u001b[0m \u001b[0my\u001b[0m\u001b[0;34m)\u001b[0m\u001b[0;34m\u001b[0m\u001b[0;34m\u001b[0m\u001b[0m\n\u001b[0;32m----> 9\u001b[0;31m \u001b[0mprint\u001b[0m\u001b[0;34m(\u001b[0m\u001b[0mmodel\u001b[0m\u001b[0;34m.\u001b[0m\u001b[0msummary\u001b[0m\u001b[0;34m(\u001b[0m\u001b[0;34m)\u001b[0m\u001b[0;34m)\u001b[0m\u001b[0;34m\u001b[0m\u001b[0;34m\u001b[0m\u001b[0m\n\u001b[0m\u001b[1;32m     10\u001b[0m \u001b[0;31m#print('intercept : ', model.intercept_ , 'coefs : ', model.coef_)\u001b[0m\u001b[0;34m\u001b[0m\u001b[0;34m\u001b[0m\u001b[0;34m\u001b[0m\u001b[0m\n",
      "\u001b[0;31mAttributeError\u001b[0m: 'LinearRegression' object has no attribute 'summary'"
     ]
    }
   ],
   "source": [
    "y_cols = ['t']+['t+'+str(i) for i in range(1,35)]\n",
    "print('y_cols = ',y_cols)\n",
    "x_cols = ['t-'+str(i) for i in range(1,36)]\n",
    "x_cols.reverse()\n",
    "print('x_cols = ',x_cols)\n",
    "y = tsla.dropna()[y_cols].to_numpy() #.reshape(-1,1)\n",
    "x = tsla.dropna()[x_cols].to_numpy() #.reshape(-1,1)\n",
    "model = LinearRegression().fit(x, y)\n",
    "print(model.summary())\n",
    "#print('intercept : ', model.intercept_ , 'coefs : ', model.coef_)"
   ]
  },
  {
   "cell_type": "code",
   "execution_count": 14,
   "id": "possible-keeping",
   "metadata": {},
   "outputs": [
    {
     "name": "stdout",
     "output_type": "stream",
     "text": [
      "y_cols =  ['t', 't+1', 't+2', 't+3', 't+4', 't+5', 't+6', 't+7', 't+8', 't+9', 't+10', 't+11', 't+12', 't+13', 't+14', 't+15', 't+16', 't+17', 't+18', 't+19', 't+20', 't+21', 't+22', 't+23', 't+24', 't+25', 't+26', 't+27', 't+28', 't+29', 't+30', 't+31', 't+32', 't+33', 't+34']\n",
      "x_cols =  ['t-35', 't-34', 't-33', 't-32', 't-31', 't-30', 't-29', 't-28', 't-27', 't-26', 't-25', 't-24', 't-23', 't-22', 't-21', 't-20', 't-19', 't-18', 't-17', 't-16', 't-15', 't-14', 't-13', 't-12', 't-11', 't-10', 't-9', 't-8', 't-7', 't-6', 't-5', 't-4', 't-3', 't-2', 't-1']\n"
     ]
    },
    {
     "ename": "ValueError",
     "evalue": "shapes (3449,36) and (3449,36) not aligned: 36 (dim 1) != 3449 (dim 0)",
     "output_type": "error",
     "traceback": [
      "\u001b[0;31m---------------------------------------------------------------------------\u001b[0m",
      "\u001b[0;31mValueError\u001b[0m                                Traceback (most recent call last)",
      "\u001b[0;32m<ipython-input-14-6a9f3efc1cd3>\u001b[0m in \u001b[0;36m<module>\u001b[0;34m\u001b[0m\n\u001b[1;32m      9\u001b[0m \u001b[0msm_model\u001b[0m \u001b[0;34m=\u001b[0m \u001b[0msm\u001b[0m\u001b[0;34m.\u001b[0m\u001b[0mOLS\u001b[0m\u001b[0;34m(\u001b[0m\u001b[0mx\u001b[0m\u001b[0;34m,\u001b[0m\u001b[0my\u001b[0m\u001b[0;34m)\u001b[0m\u001b[0;34m\u001b[0m\u001b[0;34m\u001b[0m\u001b[0m\n\u001b[1;32m     10\u001b[0m \u001b[0mres\u001b[0m \u001b[0;34m=\u001b[0m \u001b[0msm_model\u001b[0m\u001b[0;34m.\u001b[0m\u001b[0mfit\u001b[0m\u001b[0;34m(\u001b[0m\u001b[0;34m)\u001b[0m\u001b[0;34m\u001b[0m\u001b[0;34m\u001b[0m\u001b[0m\n\u001b[0;32m---> 11\u001b[0;31m \u001b[0mprint\u001b[0m\u001b[0;34m(\u001b[0m\u001b[0mres\u001b[0m\u001b[0;34m.\u001b[0m\u001b[0msummary\u001b[0m\u001b[0;34m(\u001b[0m\u001b[0;34m)\u001b[0m\u001b[0;34m)\u001b[0m\u001b[0;34m\u001b[0m\u001b[0;34m\u001b[0m\u001b[0m\n\u001b[0m\u001b[1;32m     12\u001b[0m \u001b[0;31m#print('intercept : ', model.intercept_ , 'coefs : ', model.coef_)\u001b[0m\u001b[0;34m\u001b[0m\u001b[0;34m\u001b[0m\u001b[0;34m\u001b[0m\u001b[0m\n",
      "\u001b[0;32m~/.pyenv/versions/3.9.0/lib/python3.9/site-packages/statsmodels/regression/linear_model.py\u001b[0m in \u001b[0;36msummary\u001b[0;34m(self, yname, xname, title, alpha)\u001b[0m\n\u001b[1;32m   2638\u001b[0m         \u001b[0mrsquared_type\u001b[0m \u001b[0;34m=\u001b[0m \u001b[0;34m''\u001b[0m \u001b[0;32mif\u001b[0m \u001b[0mself\u001b[0m\u001b[0;34m.\u001b[0m\u001b[0mk_constant\u001b[0m \u001b[0;32melse\u001b[0m \u001b[0;34m' (uncentered)'\u001b[0m\u001b[0;34m\u001b[0m\u001b[0;34m\u001b[0m\u001b[0m\n\u001b[1;32m   2639\u001b[0m         top_right = [('R-squared' + rsquared_type + ':',\n\u001b[0;32m-> 2640\u001b[0;31m                       [\"%#8.3f\" % self.rsquared]),\n\u001b[0m\u001b[1;32m   2641\u001b[0m                      ('Adj. R-squared' + rsquared_type + ':',\n\u001b[1;32m   2642\u001b[0m                       [\"%#8.3f\" % self.rsquared_adj]),\n",
      "\u001b[0;32mpandas/_libs/properties.pyx\u001b[0m in \u001b[0;36mpandas._libs.properties.CachedProperty.__get__\u001b[0;34m()\u001b[0m\n",
      "\u001b[0;32m~/.pyenv/versions/3.9.0/lib/python3.9/site-packages/statsmodels/regression/linear_model.py\u001b[0m in \u001b[0;36mrsquared\u001b[0;34m(self)\u001b[0m\n\u001b[1;32m   1715\u001b[0m             \u001b[0;32mreturn\u001b[0m \u001b[0;36m1\u001b[0m \u001b[0;34m-\u001b[0m \u001b[0mself\u001b[0m\u001b[0;34m.\u001b[0m\u001b[0mssr\u001b[0m\u001b[0;34m/\u001b[0m\u001b[0mself\u001b[0m\u001b[0;34m.\u001b[0m\u001b[0mcentered_tss\u001b[0m\u001b[0;34m\u001b[0m\u001b[0;34m\u001b[0m\u001b[0m\n\u001b[1;32m   1716\u001b[0m         \u001b[0;32melse\u001b[0m\u001b[0;34m:\u001b[0m\u001b[0;34m\u001b[0m\u001b[0;34m\u001b[0m\u001b[0m\n\u001b[0;32m-> 1717\u001b[0;31m             \u001b[0;32mreturn\u001b[0m \u001b[0;36m1\u001b[0m \u001b[0;34m-\u001b[0m \u001b[0mself\u001b[0m\u001b[0;34m.\u001b[0m\u001b[0mssr\u001b[0m\u001b[0;34m/\u001b[0m\u001b[0mself\u001b[0m\u001b[0;34m.\u001b[0m\u001b[0muncentered_tss\u001b[0m\u001b[0;34m\u001b[0m\u001b[0;34m\u001b[0m\u001b[0m\n\u001b[0m\u001b[1;32m   1718\u001b[0m \u001b[0;34m\u001b[0m\u001b[0m\n\u001b[1;32m   1719\u001b[0m     \u001b[0;34m@\u001b[0m\u001b[0mcache_readonly\u001b[0m\u001b[0;34m\u001b[0m\u001b[0;34m\u001b[0m\u001b[0m\n",
      "\u001b[0;32mpandas/_libs/properties.pyx\u001b[0m in \u001b[0;36mpandas._libs.properties.CachedProperty.__get__\u001b[0;34m()\u001b[0m\n",
      "\u001b[0;32m~/.pyenv/versions/3.9.0/lib/python3.9/site-packages/statsmodels/regression/linear_model.py\u001b[0m in \u001b[0;36mssr\u001b[0;34m(self)\u001b[0m\n\u001b[1;32m   1654\u001b[0m         \u001b[0;34m\"\"\"Sum of squared (whitened) residuals.\"\"\"\u001b[0m\u001b[0;34m\u001b[0m\u001b[0;34m\u001b[0m\u001b[0m\n\u001b[1;32m   1655\u001b[0m         \u001b[0mwresid\u001b[0m \u001b[0;34m=\u001b[0m \u001b[0mself\u001b[0m\u001b[0;34m.\u001b[0m\u001b[0mwresid\u001b[0m\u001b[0;34m\u001b[0m\u001b[0;34m\u001b[0m\u001b[0m\n\u001b[0;32m-> 1656\u001b[0;31m         \u001b[0;32mreturn\u001b[0m \u001b[0mnp\u001b[0m\u001b[0;34m.\u001b[0m\u001b[0mdot\u001b[0m\u001b[0;34m(\u001b[0m\u001b[0mwresid\u001b[0m\u001b[0;34m,\u001b[0m \u001b[0mwresid\u001b[0m\u001b[0;34m)\u001b[0m\u001b[0;34m\u001b[0m\u001b[0;34m\u001b[0m\u001b[0m\n\u001b[0m\u001b[1;32m   1657\u001b[0m \u001b[0;34m\u001b[0m\u001b[0m\n\u001b[1;32m   1658\u001b[0m     \u001b[0;34m@\u001b[0m\u001b[0mcache_readonly\u001b[0m\u001b[0;34m\u001b[0m\u001b[0;34m\u001b[0m\u001b[0m\n",
      "\u001b[0;32m<__array_function__ internals>\u001b[0m in \u001b[0;36mdot\u001b[0;34m(*args, **kwargs)\u001b[0m\n",
      "\u001b[0;31mValueError\u001b[0m: shapes (3449,36) and (3449,36) not aligned: 36 (dim 1) != 3449 (dim 0)"
     ]
    }
   ],
   "source": [
    "y_cols = ['t']+['t+'+str(i) for i in range(1,35)]\n",
    "print('y_cols = ',y_cols)\n",
    "x_cols = ['t-'+str(i) for i in range(1,36)]\n",
    "x_cols.reverse()\n",
    "print('x_cols = ',x_cols)\n",
    "y = tsla.dropna()[y_cols].to_numpy() #.reshape(-1,1)\n",
    "x = tsla.dropna()[x_cols].to_numpy() #.reshape(-1,1)\n",
    "x = sm.add_constant(x)\n",
    "sm_model = sm.OLS(x,y)\n",
    "res = sm_model.fit()\n",
    "print(res.summary())\n",
    "#print('intercept : ', model.intercept_ , 'coefs : ', model.coef_)"
   ]
  },
  {
   "cell_type": "code",
   "execution_count": 95,
   "id": "aboriginal-lesbian",
   "metadata": {},
   "outputs": [],
   "source": [
    "x_new = tsla[x_cols].iloc[-1].to_numpy()\n",
    "y_new=model.predict(x_new.reshape(1,-1))"
   ]
  },
  {
   "cell_type": "code",
   "execution_count": 99,
   "id": "intended-arbor",
   "metadata": {},
   "outputs": [
    {
     "data": {
      "image/png": "[encoded data removed]",
      "text/plain": [
       "<Figure size 432x288 with 1 Axes>"
      ]
     },
     "metadata": {
      "needs_background": "light"
     },
     "output_type": "display_data"
    },
    {
     "name": "stdout",
     "output_type": "stream",
     "text": [
      "855.469970703125\n"
     ]
    }
   ],
   "source": [
    "start = -500\n",
    "end = -35\n",
    "length = -start+end\n",
    "plt.plot(range(length),tsla['t'].iloc[start:end].to_numpy())\n",
    "plt.plot(range(length,length+35),y_new[0])\n",
    "plt.show()\n",
    "print(tsla['t'].iloc[end])"
   ]
  },
  {
   "cell_type": "markdown",
   "id": "compound-graduation",
   "metadata": {},
   "source": [
    "# Loading the data and correcting the time"
   ]
  },
  {
   "cell_type": "code",
   "execution_count": 126,
   "id": "portuguese-completion",
   "metadata": {},
   "outputs": [
    {
     "name": "stdout",
     "output_type": "stream",
     "text": [
      "                 Date       Open       High        Low      Close   Volume  \\\n",
      "0 2019-02-11 10:00:00  62.349998  63.700001  62.135998  63.167999  3140581   \n",
      "1 2019-02-11 11:00:00  63.153004  63.338001  62.640003  62.902000   876534   \n",
      "2 2019-02-11 12:00:00  62.935997  63.296001  62.730000  63.250000   801005   \n",
      "3 2019-02-11 13:00:00  63.230000  63.412640  62.937798  62.956001   563722   \n",
      "4 2019-02-11 14:00:00  62.996002  63.035999  62.690002  62.840981   513318   \n",
      "\n",
      "   Dividends  Stock Splits  \n",
      "0          0           0.0  \n",
      "1          0           0.0  \n",
      "2          0           0.0  \n",
      "3          0           0.0  \n",
      "4          0           0.0  \n"
     ]
    }
   ],
   "source": [
    "tsla = pickle.load(open(\"data_h.pickle\",\"rb\"))\n",
    "\n",
    "def add_hour(x):\n",
    "    x = x.to_pydatetime() + dt.timedelta(hours=1)\n",
    "    return pd.Timestamp(x)\n",
    "\n",
    "tsla = tsla.reset_index()\n",
    "while tsla.duplicated(subset='Date').any() == True:\n",
    "    tsla_duplicated = tsla.duplicated(subset='Date')\n",
    "    tsla.loc[tsla_duplicated,'Date'] = tsla[tsla_duplicated]['Date'].apply(add_hour)   \n",
    "for i in range(10):\n",
    "    tsla.loc[:,'Date'] = tsla[:]['Date'].apply(add_hour)    \n",
    "#tsla.set_index('Date',inplace=True)\n",
    "print(tsla.head())"
   ]
  },
  {
   "cell_type": "markdown",
   "id": "assigned-fiction",
   "metadata": {},
   "source": [
    "# Cut date for training/test set"
   ]
  },
  {
   "cell_type": "code",
   "execution_count": 127,
   "id": "ranging-adolescent",
   "metadata": {},
   "outputs": [
    {
     "name": "stdout",
     "output_type": "stream",
     "text": [
      "cut date =  2021-01-04 10:00:00\n",
      "2021-01-04 10:00:00\n",
      "cut index =  3330\n"
     ]
    }
   ],
   "source": [
    "cut_date = dt.datetime(year=2021,month=1,day=4,hour=10)\n",
    "print('cut date = ',cut_date)\n",
    "print(pd.Timestamp(cut_date))\n",
    "cut_idx = tsla.index[tsla['Date'] == pd.Timestamp(cut_date)].values[0]\n",
    "print('cut index = ',cut_idx)"
   ]
  },
  {
   "cell_type": "markdown",
   "id": "greatest-student",
   "metadata": {},
   "source": [
    "# First linear regression atempt\n",
    "building the features matrix and response vector"
   ]
  },
  {
   "cell_type": "code",
   "execution_count": 158,
   "id": "martial-treat",
   "metadata": {},
   "outputs": [],
   "source": [
    "response = tsla['Open']\n",
    "t = tsla.index\n",
    "variables = {\n",
    "    't':t,\n",
    "    't2':t**2,\n",
    "    't3':t**3,\n",
    "    'et':np.exp(1/1000*t)\n",
    "}\n",
    "features = pd.DataFrame(variables) #the 1/1000 cst is kinda random... (it's just to get an exponential term)\n",
    "features = sm.add_constant(features)"
   ]
  },
  {
   "cell_type": "code",
   "execution_count": 159,
   "id": "rotary-offset",
   "metadata": {
    "scrolled": true
   },
   "outputs": [
    {
     "name": "stdout",
     "output_type": "stream",
     "text": [
      "                            OLS Regression Results                            \n",
      "==============================================================================\n",
      "Dep. Variable:                   Open   R-squared:                       0.966\n",
      "Model:                            OLS   Adj. R-squared:                  0.966\n",
      "Method:                 Least Squares   F-statistic:                 2.392e+04\n",
      "Date:                Fri, 12 Mar 2021   Prob (F-statistic):               0.00\n",
      "Time:                        17:16:27   Log-Likelihood:                -16158.\n",
      "No. Observations:                3330   AIC:                         3.233e+04\n",
      "Df Residuals:                    3325   BIC:                         3.236e+04\n",
      "Df Model:                           4                                         \n",
      "Covariance Type:            nonrobust                                         \n",
      "==============================================================================\n",
      "                 coef    std err          t      P>|t|      [0.025      0.975]\n",
      "------------------------------------------------------------------------------\n",
      "const         43.8279      3.142     13.950      0.000      37.668      49.988\n",
      "t             -0.0620      0.012     -5.017      0.000      -0.086      -0.038\n",
      "t2          1.375e-05   7.96e-06      1.728      0.084   -1.85e-06    2.94e-05\n",
      "t3          4.338e-09    3.8e-09      1.142      0.254   -3.11e-09    1.18e-08\n",
      "et            18.1296      3.630      4.994      0.000      11.012      25.247\n",
      "==============================================================================\n",
      "Omnibus:                      311.347   Durbin-Watson:                   0.019\n",
      "Prob(Omnibus):                  0.000   Jarque-Bera (JB):             1643.295\n",
      "Skew:                           0.281   Prob(JB):                         0.00\n",
      "Kurtosis:                       6.395   Cond. No.                     1.16e+11\n",
      "==============================================================================\n",
      "\n",
      "Notes:\n",
      "[1] Standard Errors assume that the covariance matrix of the errors is correctly specified.\n",
      "[2] The condition number is large, 1.16e+11. This might indicate that there are\n",
      "strong multicollinearity or other numerical problems.\n"
     ]
    }
   ],
   "source": [
    "y_train = response[:cut_idx]\n",
    "x_train = features[:cut_idx]\n",
    "sm_model = sm.OLS(y_train,x_train)\n",
    "res = sm_model.fit()\n",
    "print(res.summary())"
   ]
  },
  {
   "cell_type": "markdown",
   "id": "ranging-table",
   "metadata": {},
   "source": [
    "# prediction"
   ]
  },
  {
   "cell_type": "code",
   "execution_count": 160,
   "id": "associate-validity",
   "metadata": {},
   "outputs": [
    {
     "data": {
      "text/plain": [
       "[<matplotlib.lines.Line2D at 0x125d06220>]"
      ]
     },
     "execution_count": 160,
     "metadata": {},
     "output_type": "execute_result"
    },
    {
     "data": {
      "image/png": "[encoded data removed]",
      "text/plain": [
       "<Figure size 1440x360 with 2 Axes>"
      ]
     },
     "metadata": {
      "needs_background": "light"
     },
     "output_type": "display_data"
    }
   ],
   "source": [
    "fig, axs =plt.subplots(1,2,figsize=(20,5))\n",
    "\n",
    "y_test_true = response[cut_idx:]\n",
    "x_test = features[cut_idx:]\n",
    "y_test = res.predict(x_test)\n",
    "\n",
    "axs[0].plot(x_train['t'],y_train)\n",
    "axs[0].plot(x_test['t'],y_test)\n",
    "axs[0].plot(x_test['t'],y_test_true)\n",
    "\n",
    "axs[1].plot(x_train['t'][-300:],y_train[-300:])\n",
    "axs[1].plot(x_test['t'],y_test)\n",
    "axs[1].plot(x_test['t'],y_test_true)"
   ]
  },
  {
   "cell_type": "code",
   "execution_count": 164,
   "id": "previous-balloon",
   "metadata": {},
   "outputs": [
    {
     "data": {
      "text/plain": [
       "[<matplotlib.lines.Line2D at 0x1251c34c0>]"
      ]
     },
     "execution_count": 164,
     "metadata": {},
     "output_type": "execute_result"
    },
    {
     "data": {
      "image/png": "[encoded data removed]",
      "text/plain": [
       "<Figure size 432x288 with 1 Axes>"
      ]
     },
     "metadata": {
      "needs_background": "light"
     },
     "output_type": "display_data"
    }
   ],
   "source": [
    "plt.plot(features['t'],np.log(response))"
   ]
  },
  {
   "cell_type": "code",
   "execution_count": null,
   "id": "painful-table",
   "metadata": {},
   "outputs": [],
   "source": []
  }
 ],
 "metadata": {
  "kernelspec": {
   "display_name": "Python 3",
   "language": "python",
   "name": "python3"
  },
  "language_info": {
   "codemirror_mode": {
    "name": "ipython",
    "version": 3
   },
   "file_extension": ".py",
   "mimetype": "text/x-python",
   "name": "python",
   "nbconvert_exporter": "python",
   "pygments_lexer": "ipython3",
   "version": "3.9.0"
  }
 },
 "nbformat": 4,
 "nbformat_minor": 5
}
