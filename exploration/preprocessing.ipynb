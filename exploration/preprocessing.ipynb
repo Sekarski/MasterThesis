{
 "cells": [
  {
   "cell_type": "code",
   "execution_count": 76,
   "id": "representative-pension",
   "metadata": {},
   "outputs": [],
   "source": [
    "import pickle\n",
    "import datetime as dt\n",
    "import pandas as pd\n",
    "import matplotlib.pyplot as plt"
   ]
  },
  {
   "cell_type": "code",
   "execution_count": 72,
   "id": "specific-detector",
   "metadata": {},
   "outputs": [
    {
     "name": "stdout",
     "output_type": "stream",
     "text": [
      "                 Open       High        Low      Close   Volume  Dividends  \\\n",
      "Date                                                                         \n",
      "2019-02-11  62.349998  63.700001  62.135998  63.167999  3140581          0   \n",
      "2019-02-11  63.153004  63.338001  62.640003  62.902000   876534          0   \n",
      "2019-02-11  62.935997  63.296001  62.730000  63.250000   801005          0   \n",
      "2019-02-11  63.230000  63.412640  62.937798  62.956001   563722          0   \n",
      "2019-02-11  62.996002  63.035999  62.690002  62.840981   513318          0   \n",
      "2019-02-11  62.826836  62.890003  62.568001  62.796001   453119          0   \n",
      "2019-02-11  62.770000  62.840004  62.459881  62.570000   642172          0   \n",
      "2019-02-12  63.230000  63.599998  62.765636  62.964001  1590371          0   \n",
      "2019-02-12  62.967999  63.430798  62.967999  63.340004   769540          0   \n",
      "2019-02-12  63.323997  63.355999  62.828003  62.938000   627404          0   \n",
      "2019-02-12  62.944317  62.984001  61.924000  62.289940  1011159          0   \n",
      "2019-02-12  62.292000  62.728004  62.265999  62.562000   457529          0   \n",
      "2019-02-12  62.583000  62.709999  62.440002  62.571999   317355          0   \n",
      "2019-02-12  62.579998  62.585999  62.315998  62.362000   510516          0   \n",
      "2019-02-13  62.527802  62.549999  61.509003  61.853382  1619988          0   \n",
      "\n",
      "            Stock Splits  \n",
      "Date                      \n",
      "2019-02-11           0.0  \n",
      "2019-02-11           0.0  \n",
      "2019-02-11           0.0  \n",
      "2019-02-11           0.0  \n",
      "2019-02-11           0.0  \n",
      "2019-02-11           0.0  \n",
      "2019-02-11           0.0  \n",
      "2019-02-12           0.0  \n",
      "2019-02-12           0.0  \n",
      "2019-02-12           0.0  \n",
      "2019-02-12           0.0  \n",
      "2019-02-12           0.0  \n",
      "2019-02-12           0.0  \n",
      "2019-02-12           0.0  \n",
      "2019-02-13           0.0  \n",
      "\n",
      " Dataframe size =  (3518, 7)\n",
      "\n",
      " first index =  2019-02-11 00:00:00 ; last index =  2021-02-10 00:00:00 ; second index =  2019-02-11 00:00:00\n"
     ]
    }
   ],
   "source": [
    "#load the data\n",
    "tsla = pickle.load(open(\"data_h.pickle\",\"rb\"))\n",
    "print(tsla.head(15))\n",
    "print(\"\\n Dataframe size = \",tsla.shape)\n",
    "print(\"\\n first index = \",tsla.index[0], \"; last index = \", tsla.index[-1], \"; second index = \",tsla.index[1])\n",
    "tsla = tsla.drop(['High','Low','Close','Volume','Dividends','Stock Splits'],axis=1) #just gonna look at Open prices for now"
   ]
  },
  {
   "cell_type": "code",
   "execution_count": 69,
   "id": "framed-reunion",
   "metadata": {},
   "outputs": [],
   "source": [
    "def add_hour(x):\n",
    "    x = x.to_pydatetime() + dt.timedelta(hours=1)\n",
    "    return pd.Timestamp(x)"
   ]
  },
  {
   "cell_type": "code",
   "execution_count": 73,
   "id": "liked-roller",
   "metadata": {},
   "outputs": [
    {
     "name": "stdout",
     "output_type": "stream",
     "text": [
      "                          Open\n",
      "Date                          \n",
      "2019-02-11 10:00:00  62.349998\n",
      "2019-02-11 11:00:00  63.153004\n",
      "2019-02-11 12:00:00  62.935997\n",
      "2019-02-11 13:00:00  63.230000\n",
      "2019-02-11 14:00:00  62.996002\n",
      "2019-02-11 15:00:00  62.826836\n",
      "2019-02-11 16:00:00  62.770000\n",
      "2019-02-12 10:00:00  63.230000\n",
      "2019-02-12 11:00:00  62.967999\n",
      "2019-02-12 12:00:00  63.323997\n"
     ]
    }
   ],
   "source": [
    "#The date indexes need fixing: intra-day observations all have the same index (date). Need to add times to them\n",
    "#16h-22h UTC ~= 10h-16h LT I'll just use that\n",
    "tsla = tsla.reset_index()\n",
    "\n",
    "while tsla.duplicated(subset='Date').any() == True:\n",
    "    #print(tsla.head())\n",
    "    tsla_duplicated = tsla.duplicated(subset='Date')\n",
    "    #print(tsla_duplicated.head())\n",
    "    tsla.loc[tsla_duplicated,'Date'] = tsla[tsla_duplicated]['Date'].apply(add_hour)\n",
    "    \n",
    "for i in range(10):\n",
    "    tsla.loc[:,'Date'] = tsla[:]['Date'].apply(add_hour)\n",
    "    \n",
    "tsla.set_index('Date',inplace=True)\n",
    "    \n",
    "print(tsla.head(10))"
   ]
  },
  {
   "cell_type": "code",
   "execution_count": 77,
   "id": "foster-ballot",
   "metadata": {},
   "outputs": [
    {
     "data": {
      "text/plain": [
       "[<matplotlib.lines.Line2D at 0x11596cfa0>]"
      ]
     },
     "execution_count": 77,
     "metadata": {},
     "output_type": "execute_result"
    },
    {
     "data": {
      "image/png": "[encoded data removed]",
      "text/plain": [
       "<Figure size 432x288 with 1 Axes>"
      ]
     },
     "metadata": {
      "needs_background": "light"
     },
     "output_type": "display_data"
    }
   ],
   "source": [
    "plt.plot(tsla)"
   ]
  },
  {
   "cell_type": "code",
   "execution_count": null,
   "id": "historic-arizona",
   "metadata": {},
   "outputs": [],
   "source": [
    "#Code for fixing datetime index in other notebooks or code\n",
    "def add_hour(x):\n",
    "    x = x.to_pydatetime() + dt.timedelta(hours=1)\n",
    "    return pd.Timestamp(x)\n",
    "\n",
    "tsla = tsla.reset_index()\n",
    "while tsla.duplicated(subset='Date').any() == True:\n",
    "    tsla_duplicated = tsla.duplicated(subset='Date')\n",
    "    tsla.loc[tsla_duplicated,'Date'] = tsla[tsla_duplicated]['Date'].apply(add_hour)   \n",
    "for i in range(10):\n",
    "    tsla.loc[:,'Date'] = tsla[:]['Date'].apply(add_hour)    \n",
    "tsla.set_index('Date',inplace=True)"
   ]
  }
 ],
 "metadata": {
  "kernelspec": {
   "display_name": "Python 3",
   "language": "python",
   "name": "python3"
  },
  "language_info": {
   "codemirror_mode": {
    "name": "ipython",
    "version": 3
   },
   "file_extension": ".py",
   "mimetype": "text/x-python",
   "name": "python",
   "nbconvert_exporter": "python",
   "pygments_lexer": "ipython3",
   "version": "3.9.0"
  }
 },
 "nbformat": 4,
 "nbformat_minor": 5
}
